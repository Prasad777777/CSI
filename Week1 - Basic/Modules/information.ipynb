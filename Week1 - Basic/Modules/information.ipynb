{
 "cells": [
  {
   "cell_type": "markdown",
   "id": "833959ff",
   "metadata": {},
   "source": [
    "# **What is a Module ?**\n",
    "\n",
    "Module is a file containg a set of functions you want to include in your library."
   ]
  },
  {
   "cell_type": "markdown",
   "id": "2b8ea79d",
   "metadata": {},
   "source": [
    "**Creating a Module**\n",
    "\n",
    "To create a Module just save the code you want in a file with the extension **.py**"
   ]
  },
  {
   "cell_type": "markdown",
   "id": "aaa19b5d",
   "metadata": {},
   "source": []
  },
  {
   "cell_type": "markdown",
   "id": "2d3e894e",
   "metadata": {},
   "source": [
    "# **Variables in Module **\n",
    "\n",
    "The module can contain functions as already described but it also contains variables of all types (arrays, directionaries, objects etc)\n"
   ]
  },
  {
   "cell_type": "markdown",
   "id": "acc84f22",
   "metadata": {},
   "source": []
  }
 ],
 "metadata": {
  "language_info": {
   "name": "python"
  }
 },
 "nbformat": 4,
 "nbformat_minor": 5
}

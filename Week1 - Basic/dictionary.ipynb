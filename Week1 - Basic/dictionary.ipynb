{
 "cells": [
  {
   "cell_type": "code",
   "execution_count": null,
   "id": "6f08e615",
   "metadata": {},
   "outputs": [
    {
     "name": "stdout",
     "output_type": "stream",
     "text": [
      "['DMW', 'SS']\n"
     ]
    }
   ],
   "source": [
    "#Dictionary are key and value pair\n",
    "\n",
    "Student = {'name': 'Prasad', 'age':21, 'Courses' : ['DMW','SS']}\n",
    "print(Student['Courses'])"
   ]
  },
  {
   "cell_type": "code",
   "execution_count": 2,
   "id": "d2f73455",
   "metadata": {},
   "outputs": [
    {
     "name": "stdout",
     "output_type": "stream",
     "text": [
      "Prasad\n"
     ]
    }
   ],
   "source": [
    "# Using get() method to access the value\n",
    "Student = {'name': 'Prasad', 'age':21, 'Courses' : ['DMW','SS']}\n",
    "print(Student.get('name', 'Not found'))\n"
   ]
  },
  {
   "cell_type": "code",
   "execution_count": 4,
   "id": "a1d1a8d4",
   "metadata": {},
   "outputs": [
    {
     "name": "stdout",
     "output_type": "stream",
     "text": [
      "{'name': 'Prasad', 'age': 21, 'Courses': ['DMW', 'SS'], 'Phone': '876758606'}\n"
     ]
    }
   ],
   "source": [
    "# Adding new key-value pair\n",
    "Student = {'name': 'Prasad', 'age':21, 'Courses' : ['DMW','SS']}\n",
    "Student['Phone'] = '876758606'\n",
    "print(Student)"
   ]
  },
  {
   "cell_type": "code",
   "execution_count": 6,
   "id": "4fb0e968",
   "metadata": {},
   "outputs": [
    {
     "name": "stdout",
     "output_type": "stream",
     "text": [
      "New Dictionary {'name': ['Krishna'], 'age': 21, 'Courses': ['DMW', 'SS']}\n"
     ]
    }
   ],
   "source": [
    "# Updating dictionary\n",
    "\n",
    "Student = {'name': 'Prasad', 'age':21, 'Courses' : ['DMW','SS']}\n",
    "\n",
    "Student['name'] = ['Krishna']\n",
    "print('New Dictionary', Student)"
   ]
  },
  {
   "cell_type": "code",
   "execution_count": 7,
   "id": "eaaf7cf1",
   "metadata": {},
   "outputs": [
    {
     "name": "stdout",
     "output_type": "stream",
     "text": [
      "New Dictionary is: {'name': 'Prasad', 'Courses': ['DMW', 'SS']}\n"
     ]
    }
   ],
   "source": [
    "# Deleting the key and value pair in dictionary using pop() method\n",
    "\n",
    "Student = {'name': 'Prasad', 'age':21, 'Courses' : ['DMW','SS']}\n",
    "Student.pop('age')\n",
    "print('New Dictionary is:', Student)\n"
   ]
  },
  {
   "cell_type": "code",
   "execution_count": 10,
   "id": "b3e6ad75",
   "metadata": {},
   "outputs": [
    {
     "name": "stdout",
     "output_type": "stream",
     "text": [
      "Length of the Dictionsry is 3\n",
      "Number of keys in the dictionary are 3\n",
      "Number of values in the dictionary are 3\n"
     ]
    }
   ],
   "source": [
    "# Checking length of dictionary\n",
    "Student = {'name': 'Prasad', 'age':21, 'Courses' : ['DMW','SS']}\n",
    "print('Length of the Dictionsry is', len(Student))\n",
    "\n",
    "# Checking the number of keys in dictionary\n",
    "print('Number of keys in the dictionary are', len(Student.keys()))\n",
    "\n",
    "# Checking the number of values in dictionary\n",
    "print('Number of values in the dictionary are', len(Student.values()))\n"
   ]
  },
  {
   "cell_type": "code",
   "execution_count": 11,
   "id": "bb7ad495",
   "metadata": {},
   "outputs": [
    {
     "name": "stdout",
     "output_type": "stream",
     "text": [
      "name Prasad\n",
      "age 21\n",
      "Courses ['DMW', 'SS']\n"
     ]
    }
   ],
   "source": [
    "# Looping through dictionary\n",
    "Student = {'name': 'Prasad', 'age':21, 'Courses' : ['DMW','SS']}\n",
    "\n",
    "for key, value in Student.items():\n",
    "    print(key, value)"
   ]
  },
  {
   "cell_type": "code",
   "execution_count": 13,
   "id": "f70822f0",
   "metadata": {},
   "outputs": [
    {
     "name": "stdout",
     "output_type": "stream",
     "text": [
      "name\n",
      "age\n",
      "Courses\n"
     ]
    }
   ],
   "source": [
    "# Looping only through keys in dictionary\n",
    "Student = {'name': 'Prasad', 'age':21, 'Courses' : ['DMW','SS']}\n",
    "\n",
    "for key in Student:\n",
    "    print(key)"
   ]
  },
  {
   "cell_type": "code",
   "execution_count": 14,
   "id": "993fb2fd",
   "metadata": {},
   "outputs": [
    {
     "name": "stdout",
     "output_type": "stream",
     "text": [
      "name\n",
      "age\n",
      "Courses\n"
     ]
    }
   ],
   "source": [
    "# Looping only through valuess in dictionary\n",
    "Student = {'name': 'Prasad', 'age':21, 'Courses' : ['DMW','SS']}\n",
    "\n",
    "for value in Student:\n",
    "    print(value)"
   ]
  }
 ],
 "metadata": {
  "kernelspec": {
   "display_name": "base",
   "language": "python",
   "name": "python3"
  },
  "language_info": {
   "codemirror_mode": {
    "name": "ipython",
    "version": 3
   },
   "file_extension": ".py",
   "mimetype": "text/x-python",
   "name": "python",
   "nbconvert_exporter": "python",
   "pygments_lexer": "ipython3",
   "version": "3.12.4"
  }
 },
 "nbformat": 4,
 "nbformat_minor": 5
}

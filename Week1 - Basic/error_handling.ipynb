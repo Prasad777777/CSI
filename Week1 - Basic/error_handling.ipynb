{
 "cells": [
  {
   "cell_type": "code",
   "execution_count": null,
   "id": "2f6a41e6",
   "metadata": {},
   "outputs": [],
   "source": [
    "'''Error handling in python is managed through exceptions handling which\n",
    "allows for the program to continue running even if an error occurs. \n",
    "This is done using the try and except blocks.'''"
   ]
  },
  {
   "cell_type": "code",
   "execution_count": null,
   "id": "cb27d9ab",
   "metadata": {},
   "outputs": [],
   "source": [
    "'''Exception handling helps in preventing crashes due to erros.\n",
    "Here is the basic syntax of exception handling in python.\n",
    "\n",
    "The try block lets you test a block of code for errors.\n",
    "\n",
    "The except block lets you handle the error.\n",
    "\n",
    "The else block lets you execute code when there is no error.\n",
    "\n",
    "The finally block lets you execute code, regardless of the result of the try- and except blocks.\n",
    "'''\n",
    "\n",
    "n = 10\n",
    "try:\n",
    "    result = n/0 # This will raise a ZeroDivisionError\n",
    "\n",
    "except ZeroDivisionError:\n",
    "    print(\"cant divide by zero\")\n",
    "    "
   ]
  },
  {
   "cell_type": "code",
   "execution_count": null,
   "id": "254763b0",
   "metadata": {},
   "outputs": [],
   "source": [
    "'''Syntax and Usage'''\n",
    "\n",
    "'''\n",
    "try:\n",
    "      # Code that might raise an exception except SomeException:\n",
    "      # Code to handle the exception\n",
    "else:\n",
    "     # Code to run if no exception occurs\n",
    "     \n",
    "finally:\n",
    "    # Code to run regardless of whether an exception occurs'''\n",
    "\n"
   ]
  },
  {
   "cell_type": "code",
   "execution_count": 1,
   "id": "35b163bc",
   "metadata": {},
   "outputs": [
    {
     "name": "stdout",
     "output_type": "stream",
     "text": [
      "Error: Division by zero is not allowed.\n",
      "Exeution Completed\n"
     ]
    }
   ],
   "source": [
    "try:\n",
    "    n = 0\n",
    "    result = 10 / n\n",
    "    \n",
    "except ZeroDivisionError:\n",
    "    print(\"Error: Division by zero is not allowed.\")\n",
    "    \n",
    "except ValueError:\n",
    "    print(\"Error: Invalid value provided.\")\n",
    "    \n",
    "else:\n",
    "    print(\"Result:\", result)\n",
    "    \n",
    "finally:\n",
    "    print(\"Exeution Completed\")"
   ]
  },
  {
   "cell_type": "code",
   "execution_count": null,
   "id": "88c698e4",
   "metadata": {},
   "outputs": [],
   "source": [
    "#"
   ]
  }
 ],
 "metadata": {
  "kernelspec": {
   "display_name": "base",
   "language": "python",
   "name": "python3"
  },
  "language_info": {
   "codemirror_mode": {
    "name": "ipython",
    "version": 3
   },
   "file_extension": ".py",
   "mimetype": "text/x-python",
   "name": "python",
   "nbconvert_exporter": "python",
   "pygments_lexer": "ipython3",
   "version": "3.12.4"
  }
 },
 "nbformat": 4,
 "nbformat_minor": 5
}

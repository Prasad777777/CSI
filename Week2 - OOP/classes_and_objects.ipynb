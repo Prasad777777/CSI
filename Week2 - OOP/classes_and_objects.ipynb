{
 "cells": [
  {
   "cell_type": "markdown",
   "id": "7c6b63e0",
   "metadata": {},
   "source": [
    " # **Python OOPs Concepts**\n",
    "\n",
    "OOPs is a way of organizing code that uses objects and classes to represent real-world entities and their behavior.\n",
    "\n",
    " By understanding the core OOP principles (# classes, objects, inheritance, encapsulation, polymorphism, and abstraction), programmers can leverage the full potential of Python OOP capabilities to design elegant and efficient solutions to complex problems.\n",
    "\n",
    " "
   ]
  },
  {
   "cell_type": "markdown",
   "id": "277871eb",
   "metadata": {},
   "source": [
    "# OOPs Concepts in Python\n",
    "\n",
    "\n",
    "![Class in Python](https://media.geeksforgeeks.org/wp-content/uploads/20230818181616/Types-of-OOPS-2.gif)\n",
    "Objects in Python\n",
    "Polymorphism in Python\n",
    "Encapsulation in Python\n",
    "Inheritance in Python\n",
    "Data Abstraction in Python"
   ]
  },
  {
   "cell_type": "code",
   "execution_count": null,
   "id": "7e55e9e3",
   "metadata": {},
   "outputs": [],
   "source": [
    "# Creating Classes \n",
    "# To create a class, use the keyword \"class\"\n"
   ]
  }
 ],
 "metadata": {
  "language_info": {
   "name": "python"
  }
 },
 "nbformat": 4,
 "nbformat_minor": 5
}

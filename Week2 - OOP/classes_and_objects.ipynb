{
 "cells": [
  {
   "cell_type": "markdown",
   "id": "7c6b63e0",
   "metadata": {},
   "source": [
    " # **Python OOPs Concepts**\n",
    "\n",
    " OOPs is a way of organizing code that uses objects and classes to represent real-world entities and their behavior.\n",
    "\n",
    " By understanding the core OOP principles (# classes, objects, inheritance, encapsulation, polymorphism, and abstraction), programmers can leverage the full potential of Python OOP capabilities to design elegant and efficient solutions to complex problems.\n",
    "\n",
    " "
   ]
  },
  {
   "cell_type": "markdown",
   "id": "277871eb",
   "metadata": {},
   "source": [
    "# OOPs Concepts in Python\n",
    "\n",
    "![Class in Python](https://media.geeksforgeeks.org/wp-content/uploads/20230818181616/Types-of-OOPS-2.gif)\n",
    "\n",
    "# Objects in Python\n",
    "\n",
    "1. Polymorphism in Python\n",
    "2. Encapsulation in Python\n",
    "3. Inheritance in Python\n",
    "4. Data Abstraction in Python"
   ]
  },
  {
   "cell_type": "code",
   "execution_count": null,
   "id": "7e55e9e3",
   "metadata": {},
   "outputs": [
    {
     "name": "stdout",
     "output_type": "stream",
     "text": [
      "Prasad Parjane\n"
     ]
    }
   ],
   "source": [
    "# Python Classes\n",
    "\n",
    "'''A class is a collection of objects. Classes are blueprints for creating  objects. A class defines a set of attributes and methods that the created \n",
    "objects (instances) can have.'''\n",
    "\n",
    "# Creating a class in Python - class keyword is used to define a class\n",
    "class Student:\n",
    "    name = \"Prasad Parjane\"            # class attribute\n",
    "    age = 21                           # class attribute\n",
    "\n",
    "# Creating an object from class\n",
    "stud1 = Student()              # creating an object of Student class    \n",
    "\n",
    "# Accessing the class attribute using the object\n",
    "print(stud1.name)             # Output: Prasad Parjane\n"
   ]
  },
  {
   "cell_type": "markdown",
   "id": "47ade9d9",
   "metadata": {},
   "source": [
    "# Using __init__() Function\n",
    "\n",
    "In Python, class has __init__() function. It automatically initializes object attributes when an object is created."
   ]
  },
  {
   "cell_type": "code",
   "execution_count": 1,
   "id": "1b6291fa",
   "metadata": {},
   "outputs": [],
   "source": [
    "class Dog:\n",
    "    species = \"German_Shephard\"    # class attribute\n",
    "    \n",
    "    def _init_(self, name, age):\n",
    "        self.name = name         # instance attribute\n",
    "        self.age = age\n",
    "        \n"
   ]
  }
 ],
 "metadata": {
  "kernelspec": {
   "display_name": "base",
   "language": "python",
   "name": "python3"
  },
  "language_info": {
   "codemirror_mode": {
    "name": "ipython",
    "version": 3
   },
   "file_extension": ".py",
   "mimetype": "text/x-python",
   "name": "python",
   "nbconvert_exporter": "python",
   "pygments_lexer": "ipython3",
   "version": "3.12.4"
  }
 },
 "nbformat": 4,
 "nbformat_minor": 5
}

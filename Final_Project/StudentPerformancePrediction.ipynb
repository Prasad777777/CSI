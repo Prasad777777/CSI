{
  "cells": [
    {
      "cell_type": "code",
      "execution_count": null,
      "metadata": {
        "id": "QFlzNH0M-j8h"
      },
      "outputs": [],
      "source": [
        "# Importing necessary libraries\n",
        "import pandas as pd\n",
        "import numpy as np\n",
        "import matplotlib.pyplot as plt\n",
        "import seaborn as sns\n",
        "import warnings\n",
        "from sklearn.preprocessing import LabelEncoder, StandardScaler, MinMaxScaler\n",
        "from sklearn.model_selection import train_test_split\n",
        "from sklearn.metrics import mean_squared_error, r2_score, mean_absolute_error\n",
        "from itertools import product\n",
        "warnings.filterwarnings(\"ignore\")"
      ]
    },
    {
      "cell_type": "code",
      "execution_count": 2,
      "metadata": {
        "id": "IWQwoY6uV5Kd"
      },
      "outputs": [],
      "source": [
        "# Load the dataset from the CSV file\n",
        "df = pd.read_csv(\"dataset.csv\")"
      ]
    },
    {
      "cell_type": "code",
      "execution_count": 3,
      "metadata": {
        "colab": {
          "base_uri": "https://localhost:8080/"
        },
        "id": "wUsWPONpW7rH",
        "outputId": "dd570c45-f317-4b2d-d346-435705bb34cb"
      },
      "outputs": [
        {
          "data": {
            "text/plain": [
              "(6607, 20)"
            ]
          },
          "execution_count": 3,
          "metadata": {},
          "output_type": "execute_result"
        }
      ],
      "source": [
        "# Show how many row and column we have\n",
        "df.shape"
      ]
    },
    {
      "cell_type": "code",
      "execution_count": null,
      "metadata": {
        "colab": {
          "base_uri": "https://localhost:8080/",
          "height": 383
        },
        "id": "oKrHPynvWCHJ",
        "outputId": "63a1edac-f2ca-4b5b-aa6c-d28c97d30abc"
      },
      "outputs": [],
      "source": [
        "# Show first 10 data object\n",
        "df.head(10)"
      ]
    },
    {
      "cell_type": "code",
      "execution_count": null,
      "metadata": {
        "colab": {
          "base_uri": "https://localhost:8080/"
        },
        "id": "-WEexURNgAL9",
        "outputId": "a1a447e5-80d8-4800-d216-356d04c98d39"
      },
      "outputs": [],
      "source": [
        "# More info about dataset\n",
        "df.info()"
      ]
    },
    {
      "cell_type": "code",
      "execution_count": 4,
      "metadata": {
        "id": "_NqD8BqQyoJf"
      },
      "outputs": [
        {
          "ename": "NameError",
          "evalue": "name 'df' is not defined",
          "output_type": "error",
          "traceback": [
            "\u001b[1;31m---------------------------------------------------------------------------\u001b[0m",
            "\u001b[1;31mNameError\u001b[0m                                 Traceback (most recent call last)",
            "Cell \u001b[1;32mIn[4], line 5\u001b[0m\n\u001b[0;32m      1\u001b[0m \u001b[38;5;66;03m# Type conversion of values that appear numeric but are actually categorical\u001b[39;00m\n\u001b[0;32m      3\u001b[0m threshold \u001b[38;5;241m=\u001b[39m \u001b[38;5;241m10\u001b[39m\n\u001b[1;32m----> 5\u001b[0m \u001b[38;5;28;01mfor\u001b[39;00m column \u001b[38;5;129;01min\u001b[39;00m df\u001b[38;5;241m.\u001b[39mselect_dtypes(include\u001b[38;5;241m=\u001b[39m[\u001b[38;5;124m'\u001b[39m\u001b[38;5;124mint64\u001b[39m\u001b[38;5;124m'\u001b[39m])\u001b[38;5;241m.\u001b[39mcolumns:\n\u001b[0;32m      6\u001b[0m     \u001b[38;5;28;01mif\u001b[39;00m df[column]\u001b[38;5;241m.\u001b[39mnunique() \u001b[38;5;241m<\u001b[39m\u001b[38;5;241m=\u001b[39m threshold:\n\u001b[0;32m      7\u001b[0m         df[column] \u001b[38;5;241m=\u001b[39m df[column]\u001b[38;5;241m.\u001b[39mastype(\u001b[38;5;124m'\u001b[39m\u001b[38;5;124mobject\u001b[39m\u001b[38;5;124m'\u001b[39m)\n",
            "\u001b[1;31mNameError\u001b[0m: name 'df' is not defined"
          ]
        }
      ],
      "source": [
        "# Type conversion of values that appear numeric but are actually categorical\n",
        "\n",
        "threshold = 10\n",
        "\n",
        "for column in df.select_dtypes(include=['int64']).columns:\n",
        "    if df[column].nunique() <= threshold:\n",
        "        df[column] = df[column].astype('object')"
      ]
    },
    {
      "cell_type": "code",
      "execution_count": 5,
      "metadata": {
        "id": "3PEAAsll3I7W"
      },
      "outputs": [
        {
          "ename": "NameError",
          "evalue": "name 'df' is not defined",
          "output_type": "error",
          "traceback": [
            "\u001b[1;31m---------------------------------------------------------------------------\u001b[0m",
            "\u001b[1;31mNameError\u001b[0m                                 Traceback (most recent call last)",
            "Cell \u001b[1;32mIn[5], line 2\u001b[0m\n\u001b[0;32m      1\u001b[0m \u001b[38;5;66;03m# Type conversion of values that appear categorical but are actually numerical\u001b[39;00m\n\u001b[1;32m----> 2\u001b[0m \u001b[38;5;28;01mfor\u001b[39;00m column \u001b[38;5;129;01min\u001b[39;00m df\u001b[38;5;241m.\u001b[39mselect_dtypes(include\u001b[38;5;241m=\u001b[39m[\u001b[38;5;124m'\u001b[39m\u001b[38;5;124mobject\u001b[39m\u001b[38;5;124m'\u001b[39m])\u001b[38;5;241m.\u001b[39mcolumns:\n\u001b[0;32m      3\u001b[0m     \u001b[38;5;28;01mif\u001b[39;00m df[column]\u001b[38;5;241m.\u001b[39mnunique() \u001b[38;5;241m>\u001b[39m threshold:\n\u001b[0;32m      4\u001b[0m         df[column] \u001b[38;5;241m=\u001b[39m df[column]\u001b[38;5;241m.\u001b[39mastype(\u001b[38;5;124m'\u001b[39m\u001b[38;5;124mint64\u001b[39m\u001b[38;5;124m'\u001b[39m)\n",
            "\u001b[1;31mNameError\u001b[0m: name 'df' is not defined"
          ]
        }
      ],
      "source": [
        "# Type conversion of values that appear categorical but are actually numerical\n",
        "for column in df.select_dtypes(include=['object']).columns:\n",
        "    if df[column].nunique() > threshold:\n",
        "        df[column] = df[column].astype('int64')"
      ]
    },
    {
      "cell_type": "code",
      "execution_count": 6,
      "metadata": {
        "colab": {
          "base_uri": "https://localhost:8080/"
        },
        "id": "8sPW2P6l402b",
        "outputId": "e479652e-fa33-4655-ef4c-f21bae651b83"
      },
      "outputs": [
        {
          "ename": "NameError",
          "evalue": "name 'df' is not defined",
          "output_type": "error",
          "traceback": [
            "\u001b[1;31m---------------------------------------------------------------------------\u001b[0m",
            "\u001b[1;31mNameError\u001b[0m                                 Traceback (most recent call last)",
            "Cell \u001b[1;32mIn[6], line 2\u001b[0m\n\u001b[0;32m      1\u001b[0m \u001b[38;5;66;03m# Check if type conversion is successfull\u001b[39;00m\n\u001b[1;32m----> 2\u001b[0m df\u001b[38;5;241m.\u001b[39minfo()\n",
            "\u001b[1;31mNameError\u001b[0m: name 'df' is not defined"
          ]
        }
      ],
      "source": [
        "# Check if type conversion is successfull\n",
        "df.info()"
      ]
    },
    {
      "cell_type": "code",
      "execution_count": 7,
      "metadata": {
        "colab": {
          "base_uri": "https://localhost:8080/",
          "height": 300
        },
        "id": "gzpW9vuAht2I",
        "outputId": "5bd2b4d8-e5d1-4a18-cf60-ee7bb3f1b292"
      },
      "outputs": [
        {
          "ename": "NameError",
          "evalue": "name 'df' is not defined",
          "output_type": "error",
          "traceback": [
            "\u001b[1;31m---------------------------------------------------------------------------\u001b[0m",
            "\u001b[1;31mNameError\u001b[0m                                 Traceback (most recent call last)",
            "Cell \u001b[1;32mIn[7], line 2\u001b[0m\n\u001b[0;32m      1\u001b[0m \u001b[38;5;66;03m# Get descriptive statistics for numerical columns\u001b[39;00m\n\u001b[1;32m----> 2\u001b[0m df\u001b[38;5;241m.\u001b[39mdescribe()\n",
            "\u001b[1;31mNameError\u001b[0m: name 'df' is not defined"
          ]
        }
      ],
      "source": [
        "# Get descriptive statistics for numerical columns\n",
        "df.describe()"
      ]
    },
    {
      "cell_type": "markdown",
      "metadata": {
        "id": "PsAPyeV6fvfH"
      },
      "source": [
        "# When we examine the minimum and maximum values, we see that the maximum value in the exam score is 101. Here we need to correct incorrect scores over 100."
      ]
    },
    {
      "cell_type": "code",
      "execution_count": 8,
      "metadata": {
        "colab": {
          "base_uri": "https://localhost:8080/"
        },
        "id": "HsTTswLlhawX",
        "outputId": "7925fc66-9d33-438c-d628-979412525ac3"
      },
      "outputs": [
        {
          "ename": "NameError",
          "evalue": "name 'df' is not defined",
          "output_type": "error",
          "traceback": [
            "\u001b[1;31m---------------------------------------------------------------------------\u001b[0m",
            "\u001b[1;31mNameError\u001b[0m                                 Traceback (most recent call last)",
            "Cell \u001b[1;32mIn[8], line 2\u001b[0m\n\u001b[0;32m      1\u001b[0m \u001b[38;5;66;03m# Check how many incorrect exam score values\u001b[39;00m\n\u001b[1;32m----> 2\u001b[0m df[df[\u001b[38;5;124m'\u001b[39m\u001b[38;5;124mExam_Score\u001b[39m\u001b[38;5;124m'\u001b[39m] \u001b[38;5;241m>\u001b[39m \u001b[38;5;241m100\u001b[39m]\u001b[38;5;241m.\u001b[39mshape[\u001b[38;5;241m0\u001b[39m]\n",
            "\u001b[1;31mNameError\u001b[0m: name 'df' is not defined"
          ]
        }
      ],
      "source": [
        "# Check how many incorrect exam score values\n",
        "df[df['Exam_Score'] > 100].shape[0]"
      ]
    },
    {
      "cell_type": "code",
      "execution_count": 9,
      "metadata": {
        "id": "tEYnSplJiFUx"
      },
      "outputs": [
        {
          "ename": "NameError",
          "evalue": "name 'df' is not defined",
          "output_type": "error",
          "traceback": [
            "\u001b[1;31m---------------------------------------------------------------------------\u001b[0m",
            "\u001b[1;31mNameError\u001b[0m                                 Traceback (most recent call last)",
            "Cell \u001b[1;32mIn[9], line 2\u001b[0m\n\u001b[0;32m      1\u001b[0m \u001b[38;5;66;03m# There is only one wrong exam score. We can remove that line from the data frame\u001b[39;00m\n\u001b[1;32m----> 2\u001b[0m df \u001b[38;5;241m=\u001b[39m df[df[\u001b[38;5;124m'\u001b[39m\u001b[38;5;124mExam_Score\u001b[39m\u001b[38;5;124m'\u001b[39m] \u001b[38;5;241m<\u001b[39m\u001b[38;5;241m=\u001b[39m \u001b[38;5;241m100\u001b[39m]\n",
            "\u001b[1;31mNameError\u001b[0m: name 'df' is not defined"
          ]
        }
      ],
      "source": [
        "# There is only one wrong exam score. We can remove that line from the data frame\n",
        "df = df[df['Exam_Score'] <= 100]"
      ]
    },
    {
      "cell_type": "code",
      "execution_count": 10,
      "metadata": {
        "colab": {
          "base_uri": "https://localhost:8080/",
          "height": 300
        },
        "id": "6b36dqaThstm",
        "outputId": "67b719b2-2507-41bd-bd4a-d2d2371ff669"
      },
      "outputs": [
        {
          "ename": "NameError",
          "evalue": "name 'df' is not defined",
          "output_type": "error",
          "traceback": [
            "\u001b[1;31m---------------------------------------------------------------------------\u001b[0m",
            "\u001b[1;31mNameError\u001b[0m                                 Traceback (most recent call last)",
            "Cell \u001b[1;32mIn[10], line 2\u001b[0m\n\u001b[0;32m      1\u001b[0m \u001b[38;5;66;03m# Check descriptive statistics for numerical columns again\u001b[39;00m\n\u001b[1;32m----> 2\u001b[0m df\u001b[38;5;241m.\u001b[39mdescribe()\n",
            "\u001b[1;31mNameError\u001b[0m: name 'df' is not defined"
          ]
        }
      ],
      "source": [
        "# Check descriptive statistics for numerical columns again\n",
        "df.describe()"
      ]
    },
    {
      "cell_type": "markdown",
      "metadata": {
        "id": "fjuo4B-KT-IC"
      },
      "source": [
        "Outlier values in the exam score was deleted successfully."
      ]
    },
    {
      "cell_type": "code",
      "execution_count": 11,
      "metadata": {
        "colab": {
          "base_uri": "https://localhost:8080/",
          "height": 195
        },
        "id": "TP19k-Bmhzn4",
        "outputId": "c08dffaf-2583-464b-f4fa-5a53f39574fa"
      },
      "outputs": [
        {
          "ename": "NameError",
          "evalue": "name 'df' is not defined",
          "output_type": "error",
          "traceback": [
            "\u001b[1;31m---------------------------------------------------------------------------\u001b[0m",
            "\u001b[1;31mNameError\u001b[0m                                 Traceback (most recent call last)",
            "Cell \u001b[1;32mIn[11], line 2\u001b[0m\n\u001b[0;32m      1\u001b[0m \u001b[38;5;66;03m# Get descriptive statistics for categorical columns\u001b[39;00m\n\u001b[1;32m----> 2\u001b[0m df\u001b[38;5;241m.\u001b[39mdescribe(include\u001b[38;5;241m=\u001b[39m\u001b[38;5;124m'\u001b[39m\u001b[38;5;124mobject\u001b[39m\u001b[38;5;124m'\u001b[39m)\n",
            "\u001b[1;31mNameError\u001b[0m: name 'df' is not defined"
          ]
        }
      ],
      "source": [
        "# Get descriptive statistics for categorical columns\n",
        "df.describe(include='object')"
      ]
    },
    {
      "cell_type": "code",
      "execution_count": 12,
      "metadata": {
        "colab": {
          "base_uri": "https://localhost:8080/",
          "height": 711
        },
        "id": "1NmYlTb7uWxd",
        "outputId": "25ff9637-ad2e-40b9-ce3e-fc10e30a4d7f"
      },
      "outputs": [
        {
          "ename": "NameError",
          "evalue": "name 'df' is not defined",
          "output_type": "error",
          "traceback": [
            "\u001b[1;31m---------------------------------------------------------------------------\u001b[0m",
            "\u001b[1;31mNameError\u001b[0m                                 Traceback (most recent call last)",
            "Cell \u001b[1;32mIn[12], line 2\u001b[0m\n\u001b[0;32m      1\u001b[0m \u001b[38;5;66;03m# Count unique values in each column\u001b[39;00m\n\u001b[1;32m----> 2\u001b[0m df\u001b[38;5;241m.\u001b[39mnunique()\n",
            "\u001b[1;31mNameError\u001b[0m: name 'df' is not defined"
          ]
        }
      ],
      "source": [
        "# Count unique values in each column\n",
        "df.nunique()"
      ]
    },
    {
      "cell_type": "code",
      "execution_count": 13,
      "metadata": {
        "colab": {
          "base_uri": "https://localhost:8080/"
        },
        "id": "68JyAfnwXbIo",
        "outputId": "3315c2d1-1114-4544-b08f-1db5128582c7"
      },
      "outputs": [
        {
          "ename": "NameError",
          "evalue": "name 'df' is not defined",
          "output_type": "error",
          "traceback": [
            "\u001b[1;31m---------------------------------------------------------------------------\u001b[0m",
            "\u001b[1;31mNameError\u001b[0m                                 Traceback (most recent call last)",
            "Cell \u001b[1;32mIn[13], line 2\u001b[0m\n\u001b[0;32m      1\u001b[0m \u001b[38;5;66;03m# Check for duplicated data object\u001b[39;00m\n\u001b[1;32m----> 2\u001b[0m df\u001b[38;5;241m.\u001b[39mduplicated()\u001b[38;5;241m.\u001b[39msum()\n",
            "\u001b[1;31mNameError\u001b[0m: name 'df' is not defined"
          ]
        }
      ],
      "source": [
        "# Check for duplicated data object\n",
        "df.duplicated().sum()"
      ]
    },
    {
      "cell_type": "markdown",
      "metadata": {
        "id": "9lPhBsyaeCsS"
      },
      "source": [
        "There is no duplicated data object so we dont need to take any action"
      ]
    },
    {
      "cell_type": "code",
      "execution_count": 14,
      "metadata": {
        "colab": {
          "base_uri": "https://localhost:8080/",
          "height": 101
        },
        "id": "w0qufknOfXlR",
        "outputId": "e17e7aee-8dbd-4f56-88c4-802db4ae29e1"
      },
      "outputs": [
        {
          "ename": "NameError",
          "evalue": "name 'df' is not defined",
          "output_type": "error",
          "traceback": [
            "\u001b[1;31m---------------------------------------------------------------------------\u001b[0m",
            "\u001b[1;31mNameError\u001b[0m                                 Traceback (most recent call last)",
            "Cell \u001b[1;32mIn[14], line 2\u001b[0m\n\u001b[0;32m      1\u001b[0m \u001b[38;5;66;03m# Check for null values\u001b[39;00m\n\u001b[1;32m----> 2\u001b[0m df\u001b[38;5;241m.\u001b[39misnull()\u001b[38;5;241m.\u001b[39msum()\u001b[38;5;241m.\u001b[39mto_frame()\u001b[38;5;241m.\u001b[39mT\n",
            "\u001b[1;31mNameError\u001b[0m: name 'df' is not defined"
          ]
        }
      ],
      "source": [
        "# Check for null values\n",
        "df.isnull().sum().to_frame().T"
      ]
    },
    {
      "cell_type": "markdown",
      "metadata": {
        "id": "EuvAaU5UzusX"
      },
      "source": [
        "Teacher Quality, Parental_Education_Level and Distance_from_Home\n",
        "have some null values. We can fill them."
      ]
    },
    {
      "cell_type": "code",
      "execution_count": 15,
      "metadata": {
        "colab": {
          "base_uri": "https://localhost:8080/"
        },
        "id": "6ufYgfsBuX9G",
        "outputId": "7b3ce9dc-4e4f-4da2-bc66-b744c5774f5a"
      },
      "outputs": [
        {
          "ename": "NameError",
          "evalue": "name 'df' is not defined",
          "output_type": "error",
          "traceback": [
            "\u001b[1;31m---------------------------------------------------------------------------\u001b[0m",
            "\u001b[1;31mNameError\u001b[0m                                 Traceback (most recent call last)",
            "Cell \u001b[1;32mIn[15], line 2\u001b[0m\n\u001b[0;32m      1\u001b[0m \u001b[38;5;66;03m# We should assign categorical and numerical columns to choose which filling method suitable for missing values\u001b[39;00m\n\u001b[1;32m----> 2\u001b[0m cat_cols \u001b[38;5;241m=\u001b[39m [col \u001b[38;5;28;01mfor\u001b[39;00m col \u001b[38;5;129;01min\u001b[39;00m df\u001b[38;5;241m.\u001b[39mcolumns \u001b[38;5;28;01mif\u001b[39;00m df[col]\u001b[38;5;241m.\u001b[39mdtypes \u001b[38;5;241m==\u001b[39m \u001b[38;5;124m\"\u001b[39m\u001b[38;5;124mobject\u001b[39m\u001b[38;5;124m\"\u001b[39m]\n\u001b[0;32m      3\u001b[0m num_cols \u001b[38;5;241m=\u001b[39m [col \u001b[38;5;28;01mfor\u001b[39;00m col \u001b[38;5;129;01min\u001b[39;00m df\u001b[38;5;241m.\u001b[39mcolumns \u001b[38;5;28;01mif\u001b[39;00m col \u001b[38;5;129;01mnot\u001b[39;00m \u001b[38;5;129;01min\u001b[39;00m cat_cols]\n\u001b[0;32m      4\u001b[0m \u001b[38;5;28mprint\u001b[39m(\u001b[38;5;124m\"\u001b[39m\u001b[38;5;124mCategorical Columns : \u001b[39m\u001b[38;5;124m\"\u001b[39m)\n",
            "\u001b[1;31mNameError\u001b[0m: name 'df' is not defined"
          ]
        }
      ],
      "source": [
        "# We should assign categorical and numerical columns to choose which filling method suitable for missing values\n",
        "cat_cols = [col for col in df.columns if df[col].dtypes == \"object\"]\n",
        "num_cols = [col for col in df.columns if col not in cat_cols]\n",
        "print(\"Categorical Columns : \")\n",
        "print(cat_cols)"
      ]
    },
    {
      "cell_type": "markdown",
      "metadata": {
        "id": "lddHw3k84CF5"
      },
      "source": [
        "All columns have missing values are categorical so we can fill the missing values with mode values."
      ]
    },
    {
      "cell_type": "code",
      "execution_count": 16,
      "metadata": {
        "id": "mBheaNO_4rDD"
      },
      "outputs": [
        {
          "ename": "NameError",
          "evalue": "name 'df' is not defined",
          "output_type": "error",
          "traceback": [
            "\u001b[1;31m---------------------------------------------------------------------------\u001b[0m",
            "\u001b[1;31mNameError\u001b[0m                                 Traceback (most recent call last)",
            "Cell \u001b[1;32mIn[16], line 2\u001b[0m\n\u001b[0;32m      1\u001b[0m \u001b[38;5;66;03m# Fill the missing values\u001b[39;00m\n\u001b[1;32m----> 2\u001b[0m df[\u001b[38;5;124m'\u001b[39m\u001b[38;5;124mTeacher_Quality\u001b[39m\u001b[38;5;124m'\u001b[39m]\u001b[38;5;241m.\u001b[39mfillna(df[\u001b[38;5;124m'\u001b[39m\u001b[38;5;124mTeacher_Quality\u001b[39m\u001b[38;5;124m'\u001b[39m]\u001b[38;5;241m.\u001b[39mmode()[\u001b[38;5;241m0\u001b[39m], inplace\u001b[38;5;241m=\u001b[39m\u001b[38;5;28;01mTrue\u001b[39;00m)\n\u001b[0;32m      3\u001b[0m df[\u001b[38;5;124m'\u001b[39m\u001b[38;5;124mParental_Education_Level\u001b[39m\u001b[38;5;124m'\u001b[39m]\u001b[38;5;241m.\u001b[39mfillna(df[\u001b[38;5;124m'\u001b[39m\u001b[38;5;124mParental_Education_Level\u001b[39m\u001b[38;5;124m'\u001b[39m]\u001b[38;5;241m.\u001b[39mmode()[\u001b[38;5;241m0\u001b[39m], inplace\u001b[38;5;241m=\u001b[39m\u001b[38;5;28;01mTrue\u001b[39;00m)\n\u001b[0;32m      4\u001b[0m df[\u001b[38;5;124m'\u001b[39m\u001b[38;5;124mDistance_from_Home\u001b[39m\u001b[38;5;124m'\u001b[39m]\u001b[38;5;241m.\u001b[39mfillna(df[\u001b[38;5;124m'\u001b[39m\u001b[38;5;124mDistance_from_Home\u001b[39m\u001b[38;5;124m'\u001b[39m]\u001b[38;5;241m.\u001b[39mmode()[\u001b[38;5;241m0\u001b[39m], inplace\u001b[38;5;241m=\u001b[39m\u001b[38;5;28;01mTrue\u001b[39;00m)\n",
            "\u001b[1;31mNameError\u001b[0m: name 'df' is not defined"
          ]
        }
      ],
      "source": [
        "# Fill the missing values\n",
        "df['Teacher_Quality'].fillna(df['Teacher_Quality'].mode()[0], inplace=True)\n",
        "df['Parental_Education_Level'].fillna(df['Parental_Education_Level'].mode()[0], inplace=True)\n",
        "df['Distance_from_Home'].fillna(df['Distance_from_Home'].mode()[0], inplace=True)"
      ]
    },
    {
      "cell_type": "code",
      "execution_count": 17,
      "metadata": {
        "colab": {
          "base_uri": "https://localhost:8080/",
          "height": 711
        },
        "id": "bhUlVfLC5tiK",
        "outputId": "d23eac4f-ba05-4ff8-ee1d-835c4f8c67a0"
      },
      "outputs": [
        {
          "ename": "NameError",
          "evalue": "name 'df' is not defined",
          "output_type": "error",
          "traceback": [
            "\u001b[1;31m---------------------------------------------------------------------------\u001b[0m",
            "\u001b[1;31mNameError\u001b[0m                                 Traceback (most recent call last)",
            "Cell \u001b[1;32mIn[17], line 2\u001b[0m\n\u001b[0;32m      1\u001b[0m \u001b[38;5;66;03m# Check again if there is null values or not\u001b[39;00m\n\u001b[1;32m----> 2\u001b[0m df\u001b[38;5;241m.\u001b[39misnull()\u001b[38;5;241m.\u001b[39msum()\n",
            "\u001b[1;31mNameError\u001b[0m: name 'df' is not defined"
          ]
        }
      ],
      "source": [
        "# Check again if there is null values or not\n",
        "df.isnull().sum()"
      ]
    },
    {
      "cell_type": "markdown",
      "metadata": {
        "id": "b8q3vUOuUirE"
      },
      "source": [
        "Values in the colum containing null values were filled with mode values"
      ]
    },
    {
      "cell_type": "code",
      "execution_count": 18,
      "metadata": {
        "colab": {
          "base_uri": "https://localhost:8080/"
        },
        "id": "B8TXaSUjgmAq",
        "outputId": "bcff62cb-86e7-4b58-8061-84abb6db2861"
      },
      "outputs": [
        {
          "ename": "NameError",
          "evalue": "name 'df' is not defined",
          "output_type": "error",
          "traceback": [
            "\u001b[1;31m---------------------------------------------------------------------------\u001b[0m",
            "\u001b[1;31mNameError\u001b[0m                                 Traceback (most recent call last)",
            "Cell \u001b[1;32mIn[18], line 2\u001b[0m\n\u001b[0;32m      1\u001b[0m \u001b[38;5;66;03m# Check if categorical values ​​are entered properly\u001b[39;00m\n\u001b[1;32m----> 2\u001b[0m unique_values \u001b[38;5;241m=\u001b[39m df[cat_cols]\u001b[38;5;241m.\u001b[39mapply(\u001b[38;5;28;01mlambda\u001b[39;00m x: x\u001b[38;5;241m.\u001b[39munique())\n\u001b[0;32m      3\u001b[0m \u001b[38;5;28mprint\u001b[39m(unique_values)\n",
            "\u001b[1;31mNameError\u001b[0m: name 'df' is not defined"
          ]
        }
      ],
      "source": [
        "# Check if categorical values ​​are entered properly\n",
        "unique_values = df[cat_cols].apply(lambda x: x.unique())\n",
        "print(unique_values)"
      ]
    },
    {
      "cell_type": "markdown",
      "metadata": {
        "id": "xkDsWCd4re_w"
      },
      "source": [
        "All categorical values ​​are entered properly into the data set then we can continue data exploration"
      ]
    },
    {
      "cell_type": "markdown",
      "metadata": {
        "id": "A165yF4QASA8"
      },
      "source": [
        "# VISUALIZATION\n"
      ]
    },
    {
      "cell_type": "markdown",
      "metadata": {
        "id": "aqhxpnaoj0tf"
      },
      "source": [
        "\n",
        "Detailed distribution of target variable (Exam_score) :"
      ]
    },
    {
      "cell_type": "code",
      "execution_count": 19,
      "metadata": {
        "colab": {
          "base_uri": "https://localhost:8080/",
          "height": 564
        },
        "id": "5kBBJ7AHARN3",
        "outputId": "eb7450a9-2d53-4b09-e2a4-cd8af086866d"
      },
      "outputs": [
        {
          "ename": "NameError",
          "evalue": "name 'plt' is not defined",
          "output_type": "error",
          "traceback": [
            "\u001b[1;31m---------------------------------------------------------------------------\u001b[0m",
            "\u001b[1;31mNameError\u001b[0m                                 Traceback (most recent call last)",
            "Cell \u001b[1;32mIn[19], line 1\u001b[0m\n\u001b[1;32m----> 1\u001b[0m plt\u001b[38;5;241m.\u001b[39mfigure(figsize\u001b[38;5;241m=\u001b[39m(\u001b[38;5;241m10\u001b[39m, \u001b[38;5;241m6\u001b[39m))\n\u001b[0;32m      2\u001b[0m sns\u001b[38;5;241m.\u001b[39mcountplot(x\u001b[38;5;241m=\u001b[39mdf[\u001b[38;5;124m\"\u001b[39m\u001b[38;5;124mExam_Score\u001b[39m\u001b[38;5;124m\"\u001b[39m], palette\u001b[38;5;241m=\u001b[39m\u001b[38;5;124m'\u001b[39m\u001b[38;5;124mcrest\u001b[39m\u001b[38;5;124m'\u001b[39m) \u001b[38;5;66;03m# Create countplot\u001b[39;00m\n\u001b[0;32m      3\u001b[0m \u001b[38;5;66;03m# Note : Count plot is normally used to show categorical values, but I preferred to use it for this feature\u001b[39;00m\n\u001b[0;32m      4\u001b[0m \u001b[38;5;66;03m# because I wanted to see each score in detail.\u001b[39;00m\n",
            "\u001b[1;31mNameError\u001b[0m: name 'plt' is not defined"
          ]
        }
      ],
      "source": [
        "plt.figure(figsize=(10, 6))\n",
        "sns.countplot(x=df[\"Exam_Score\"], palette='crest') # Create countplot\n",
        "# Note : Count plot is normally used to show categorical values, but I preferred to use it for this feature\n",
        "# because I wanted to see each score in detail.\n",
        "plt.title(\"The distribution of taget variable 'Exam_score'.\") # Set plot title\n",
        "plt.grid(True, which='major', axis='y', linestyle='--', linewidth=0.7)"
      ]
    },
    {
      "cell_type": "markdown",
      "metadata": {
        "id": "7_iKWQnQjn9G"
      },
      "source": [
        "Distribution of categorical features :\n",
        "\n"
      ]
    },
    {
      "cell_type": "code",
      "execution_count": null,
      "metadata": {
        "colab": {
          "base_uri": "https://localhost:8080/",
          "height": 767
        },
        "id": "m1miMGUYH1Ni",
        "outputId": "1a9b3120-7992-4664-cd03-66ed6327af0f"
      },
      "outputs": [],
      "source": [
        "# Create a 4x4 grid of countplots for categorical variable distributions\n",
        "fig, axes = plt.subplots(4, 4, figsize=(14, 10))\n",
        "fig.suptitle(\"Distribution of Categorical Variables\", fontsize=16)\n",
        "axes = axes.ravel() # Flatten the 2D array of axes to 1D for easier indexing\n",
        "\n",
        "# Plot countplot for each categorical column\n",
        "for i, col in enumerate(cat_cols):\n",
        "    sns.countplot(x=df[col], palette='crest', ax=axes[i])\n",
        "    axes[i].set_title(f\"Distribution of {col}\")\n",
        "    axes[i].grid(True, which='major', axis='y', linestyle='--', linewidth=0.7)  # Add grid on y-axis\n",
        "\n",
        "plt.tight_layout()  # Adjust layout\n",
        "plt.show()  # Display the plots"
      ]
    },
    {
      "cell_type": "markdown",
      "metadata": {
        "id": "e_MBiQwcj6_L"
      },
      "source": [
        "Histogram of numerical features :"
      ]
    },
    {
      "cell_type": "code",
      "execution_count": null,
      "metadata": {
        "colab": {
          "base_uri": "https://localhost:8080/",
          "height": 609
        },
        "id": "iq2xuQFkVNLQ",
        "outputId": "64d9fe7a-9885-49c4-b5ae-96242ddb7baa"
      },
      "outputs": [],
      "source": [
        "fig , axes = plt.subplots(2,2,figsize=(10,6))\n",
        "fig.suptitle(\"Distribution of Numerical Variables\",fontsize=16)\n",
        "axes = axes.ravel()\n",
        "for i,col in enumerate(num_cols):\n",
        "  sns.histplot(x=df[col],ax=axes[i],kde=True, bins=20)\n",
        "  axes[i].set_title(f\"Distribution of '{col}'\")\n",
        "  axes[i].grid(True, which='major', axis='y', linestyle='--', linewidth=0.7)\n",
        "\n",
        "plt.tight_layout()\n",
        "plt.show()"
      ]
    },
    {
      "cell_type": "markdown",
      "metadata": {
        "id": "1qaq0Ev7kBwP"
      },
      "source": [
        "Box plot of numerical features :"
      ]
    },
    {
      "cell_type": "code",
      "execution_count": null,
      "metadata": {
        "colab": {
          "base_uri": "https://localhost:8080/",
          "height": 609
        },
        "id": "1OLHEQZndnkR",
        "outputId": "a5ddfc6f-b557-44cb-dbbb-45c688fee6fd"
      },
      "outputs": [],
      "source": [
        "# Create a 2x2 grid for boxplots of numerical columns\n",
        "fig, axes = plt.subplots(2, 2, figsize=(10, 6))\n",
        "fig.suptitle(\"Box Plot of Numerical Values\")\n",
        "axes = axes.ravel()\n",
        "\n",
        "# Plot boxplot for each numerical column, excluding 'Exam_Score'\n",
        "for i, col in enumerate(num_cols):\n",
        "    if col == \"Exam_Score\":\n",
        "        axes[i].axis('off')\n",
        "        continue\n",
        "    sns.boxplot(x=df[col], ax=axes[i])\n",
        "    axes[i].set_title(f\"Box Plot of '{col}'\")\n",
        "    axes[i].grid(True, which='major', axis='y', linestyle='--', linewidth=0.7)\n",
        "\n",
        "plt.tight_layout()\n",
        "plt.show()"
      ]
    },
    {
      "cell_type": "markdown",
      "metadata": {
        "id": "cOGH1ziowNGS"
      },
      "source": [
        "Violin plot is a more advanced version of box plot. In addition to the information shown by the box plot, it also gives us information about the density of the distribution."
      ]
    },
    {
      "cell_type": "markdown",
      "metadata": {
        "id": "3vHWjDDxmTlh"
      },
      "source": [
        "\n",
        "Violin Plot of Numerical Values :"
      ]
    },
    {
      "cell_type": "code",
      "execution_count": null,
      "metadata": {
        "colab": {
          "base_uri": "https://localhost:8080/",
          "height": 609
        },
        "id": "5DS0j_Iov1LH",
        "outputId": "88716eac-3d70-49c5-b245-8331f9a798a8"
      },
      "outputs": [],
      "source": [
        "fig, axes = plt.subplots(2, 2, figsize=(10, 6))\n",
        "fig.suptitle(\"Violin Plot of Numerical Values\")\n",
        "axes = axes.ravel()\n",
        "\n",
        "for i, col in enumerate(num_cols):\n",
        "    if col == \"Exam_Score\":\n",
        "        axes[i].axis('off')\n",
        "        continue\n",
        "    sns.violinplot(x=df[col], ax=axes[i])\n",
        "    axes[i].set_title(f\"Violin Plot of '{col}'\")\n",
        "    axes[i].grid(True, which='major', axis='y', linestyle='--', linewidth=0.7)\n",
        "plt.tight_layout()\n",
        "plt.show()"
      ]
    },
    {
      "cell_type": "markdown",
      "metadata": {
        "id": "QpNXKYCwmX7e"
      },
      "source": [
        "\n",
        "Scatter plot for relationship between exam score and categorical variables :"
      ]
    },
    {
      "cell_type": "code",
      "execution_count": null,
      "metadata": {
        "colab": {
          "base_uri": "https://localhost:8080/",
          "height": 609
        },
        "id": "MGcRp5sU14to",
        "outputId": "ce1aaebd-fdb8-4496-e8e4-f7309e74adae"
      },
      "outputs": [],
      "source": [
        "fig, axes = plt.subplots(2, 2, figsize=(10, 6))\n",
        "fig.suptitle(\"Scatter Plot of Numerical Values with Exam Score\")\n",
        "axes = axes.ravel()\n",
        "for i, col in enumerate(num_cols):\n",
        "    if col == \"Exam_Score\":\n",
        "        axes[i].axis('off')\n",
        "        continue\n",
        "    sns.scatterplot(x=df[col], y=df[\"Exam_Score\"], ax=axes[i])\n",
        "    axes[i].set_title(f\"{col} vs Exam Score\")\n",
        "    axes[i].grid(True, which='major', axis='y', linestyle='--', linewidth=0.7)\n",
        "plt.tight_layout()\n",
        "plt.show()"
      ]
    },
    {
      "cell_type": "markdown",
      "metadata": {
        "id": "5O7D5xAcXagI"
      },
      "source": [
        "The charts show that Hours Studied and Attendance have a somewhat direct relationship with exam scores; as hours studied and attendance increase, exam scores tend to rise. On the other hand, Previous Scores do not appear to significantly impact exam performance; some students with high previous scores still receive low exam scores."
      ]
    },
    {
      "cell_type": "markdown",
      "metadata": {
        "id": "haYKOwlAmdj9"
      },
      "source": [
        "\n",
        "Boxplot for relationship between exam score and categorical columns :"
      ]
    },
    {
      "cell_type": "code",
      "execution_count": null,
      "metadata": {
        "colab": {
          "base_uri": "https://localhost:8080/",
          "height": 1000
        },
        "id": "itwylWNYQfLd",
        "outputId": "4abf959a-b21c-459c-c177-4edd647b6214"
      },
      "outputs": [],
      "source": [
        "fig, axes = plt.subplots(8, 2, figsize=(15, 60))\n",
        "\n",
        "axes = axes.ravel()\n",
        "\n",
        "for i, col in enumerate(cat_cols):\n",
        "    sns.boxplot(x=df[col], y=df[\"Exam_Score\"], ax=axes[i])\n",
        "    axes[i].set_title(f'Relationship between {col} and Exam Score')\n",
        "    plt.xlabel(col)\n",
        "    plt.ylabel(\"Exam Score\")\n",
        "\n",
        "plt.tight_layout()\n",
        "plt.show()"
      ]
    },
    {
      "cell_type": "markdown",
      "metadata": {
        "id": "vWNPR6HbnExi"
      },
      "source": [
        "\n",
        "Correlation matrix for Numerical Values :"
      ]
    },
    {
      "cell_type": "code",
      "execution_count": null,
      "metadata": {
        "colab": {
          "base_uri": "https://localhost:8080/",
          "height": 699
        },
        "id": "4Iw6ON75-wyD",
        "outputId": "89ae5391-db49-4745-b7c5-ec1145aa8421"
      },
      "outputs": [],
      "source": [
        "# Calculate the correlation matrix for numerical columns\n",
        "correlation_matrix = df[num_cols].corr()\n",
        "\n",
        "# Plot the heatmap for the correlation matrix\n",
        "plt.figure(figsize=(10, 8))\n",
        "sns.heatmap(correlation_matrix, annot=True, cmap='coolwarm')  # Visualize with annotations\n",
        "plt.title(\"Correlation Matrix for Numerical Values\")\n",
        "plt.show()"
      ]
    },
    {
      "cell_type": "markdown",
      "metadata": {
        "id": "RuAQs9kndurd"
      },
      "source": [
        "In order to perform correlation analysis on categorical values, we need to use encoding methods on these values."
      ]
    },
    {
      "cell_type": "markdown",
      "metadata": {
        "id": "p8Me4AwQZZTc"
      },
      "source": [
        "The correlation matrix indicates that Attendance has the strongest positive correlation with Exam Score (0.58), suggesting that higher attendance is associated with better exam performance. Hours Studied also shows a moderate positive correlation with Exam Score (0.45), implying that studying more hours may have a positive impact on exam results, though the effect is weaker than attendance. Previous Scores have a low correlation (0.17) with Exam Score, meaning past scores do not strongly influence current exam performance"
      ]
    },
    {
      "cell_type": "markdown",
      "metadata": {
        "id": "3ct_GCmNyWnt"
      },
      "source": [
        "# Label Encoding"
      ]
    },
    {
      "cell_type": "markdown",
      "metadata": {
        "id": "vb9gWLst94pJ"
      },
      "source": [
        "Label encoding is necessary because many machine learning algorithms require numerical input. By converting categorical variables into numerical labels, we make the data compatible with models that cannot handle text directly."
      ]
    },
    {
      "cell_type": "markdown",
      "metadata": {
        "id": "SuIgCEsMoSLH"
      },
      "source": [
        "\n",
        "Let's print the unique_values variable again to remember the categorical values and their values :"
      ]
    },
    {
      "cell_type": "code",
      "execution_count": null,
      "metadata": {
        "colab": {
          "base_uri": "https://localhost:8080/"
        },
        "id": "7yNxRfJCeCJ1",
        "outputId": "e950099a-dc55-47df-90ac-333df3c9ab8a"
      },
      "outputs": [],
      "source": [
        "print(unique_values)"
      ]
    },
    {
      "cell_type": "markdown",
      "metadata": {
        "id": "KjQw9ED3-Xro"
      },
      "source": [
        "Ordinal columns with an inherent order are encoded with predefined mappings,\n",
        "while nominal categorical columns (without order) are encoded using label encoding."
      ]
    },
    {
      "cell_type": "code",
      "execution_count": null,
      "metadata": {
        "id": "aCLmpUWv48BR"
      },
      "outputs": [],
      "source": [
        "# Defining ordered categorical mappings for specific columns\n",
        "ordered_data = {\n",
        "    'Parental_Involvement': {'Low': 0, 'Medium': 1, 'High': 2},\n",
        "    'Access_to_Resources': {'Low': 0, 'Medium': 1, 'High': 2},\n",
        "    'Motivation_Level': {'Low': 0, 'Medium': 1, 'High': 2},\n",
        "    'Family_Income': {'Low': 0, 'Medium': 1, 'High': 2},\n",
        "    'Teacher_Quality': {'Low': 0, 'Medium': 1, 'High': 2},\n",
        "    'Peer_Influence': {'Negative': 0, 'Neutral': 1, 'Positive': 2},\n",
        "    'Parental_Education_Level': {'High School': 0, 'College': 1, 'Postgraduate': 2},\n",
        "    'Distance_from_Home': {'Near': 0, 'Moderate': 1, 'Far': 2}\n",
        "}\n",
        "\n",
        "# Defining categorical columns for label encoding\n",
        "label_columns = ['Gender', 'Extracurricular_Activities', \"Internet_Access\", \"School_Type\", \"Learning_Disabilities\"]\n",
        "\n",
        "label_encoder = LabelEncoder()\n",
        "\n",
        "# Applying label encoding to categorical columns\n",
        "for col in label_columns:\n",
        "    df[col] = label_encoder.fit_transform(df[col])\n",
        "\n",
        "# Function to apply ordered encoding to specified columns\n",
        "def encode_dataframe(df, ordered_data):\n",
        "    for column in df.columns:\n",
        "        if column in ordered_data:\n",
        "            encoding = ordered_data[column]\n",
        "            df[column] = df[column].map(encoding)\n",
        "\n",
        "encode_dataframe(df, ordered_data)"
      ]
    },
    {
      "cell_type": "code",
      "execution_count": null,
      "metadata": {
        "colab": {
          "base_uri": "https://localhost:8080/",
          "height": 383
        },
        "id": "3nhPzchGLLF4",
        "outputId": "07abc7a2-0000-4858-8352-3324ce9c7e78"
      },
      "outputs": [],
      "source": [
        "df.head(10)"
      ]
    },
    {
      "cell_type": "markdown",
      "metadata": {
        "id": "LZM841k9RpHS"
      },
      "source": [
        "# Scaler"
      ]
    },
    {
      "cell_type": "markdown",
      "metadata": {
        "id": "9J8PEiV6prfS"
      },
      "source": [
        "\n",
        "In data mining, when features have different value ranges, it can negatively impact the model's learning.\n",
        "\n",
        "A scaler normalizes (min-max) or standardizes (Z-score) the data to bring feature values to a comparable level, helping the model produce more accurate results.\n"
      ]
    },
    {
      "cell_type": "code",
      "execution_count": null,
      "metadata": {
        "id": "J2bYTgaLRyy-"
      },
      "outputs": [],
      "source": [
        "from sklearn.preprocessing import MinMaxScaler\n",
        "\n",
        "# Initializing MinMaxScaler\n",
        "min_max_scaler = MinMaxScaler()\n",
        "\n",
        "# Applying Min-Max scaling to all features\n",
        "df[['Hours_Studied', 'Sleep_Hours', 'Physical_Activity', 'Attendance', 'Previous_Scores', 'Tutoring_Sessions']] = min_max_scaler.fit_transform(\n",
        "    df[['Hours_Studied', 'Sleep_Hours', 'Physical_Activity', 'Attendance', 'Previous_Scores', 'Tutoring_Sessions']]\n",
        ")\n"
      ]
    },
    {
      "cell_type": "code",
      "execution_count": null,
      "metadata": {
        "colab": {
          "base_uri": "https://localhost:8080/",
          "height": 383
        },
        "id": "XmCXc20NT39t",
        "outputId": "cd32a4eb-fb3f-4068-a7bd-0bd8b5efa6cc"
      },
      "outputs": [],
      "source": [
        "df.head(10)"
      ]
    },
    {
      "cell_type": "markdown",
      "metadata": {
        "id": "sp1-PmI5Z5jo"
      },
      "source": [
        "All necessary datapreprocessing techniques have been applied on the dataset, now our updated dataset is suitable for use in machine learning models."
      ]
    },
    {
      "cell_type": "markdown",
      "metadata": {
        "id": "M8lJtn8VXuLg"
      },
      "source": [
        "# 📊 EXTRA : I found perfect package for data quality profiling and exploratory data analysis . We can get extra insights by checking it out."
      ]
    },
    {
      "cell_type": "code",
      "execution_count": null,
      "metadata": {
        "colab": {
          "base_uri": "https://localhost:8080/"
        },
        "id": "46tmgEXb4AN9",
        "outputId": "9241b566-c304-4f87-ce36-fe9bf34bd0a5"
      },
      "outputs": [],
      "source": [
        "# Install specific Numba version, YData Profiling, and upgrade Visions and YData Profiling\n",
        "!pip install numba==0.53.1\n",
        "!pip install ydata-profiling\n",
        "!pip install visions --upgrade\n",
        "!pip install ydata-profiling --upgrade"
      ]
    },
    {
      "cell_type": "code",
      "execution_count": null,
      "metadata": {
        "colab": {
          "base_uri": "https://localhost:8080/",
          "height": 918,
          "referenced_widgets": [
            "f1e1aad5d3cf4b589aeb74ef75581f4c",
            "d37fbb90993a4b269a93e1aee1e165cb",
            "b9afd6897d9b47f6a2ec6e91ea292251",
            "14665a7394b94aabb3d5e3eb6a1d8457",
            "e7373a59788e40b2a3be9297b45c70c8",
            "67aa25c700cf4fba830142f3f79c4188",
            "1f12890feabf4a5f8fc693fa6ca63a47",
            "cac25faec78544f7a9732abcedd8dc7f",
            "ec943521207a4f99b8b146473e926c7c",
            "c75d4df0a14f42a2ae61655c606e5f84",
            "c44bd66390fa4710b1cfa89f75d4eba6",
            "287e10f751304800a1bd80a2d7fc28fd",
            "c55f8f7d2e834f4894334d86a21ac01f",
            "e6a7d86fad804d3c8955e26133b46040",
            "68f319595a924c00b0b47981b47faf4d",
            "c8620fc6386045789cc30f53c5fd60c2",
            "fd1efa3da98d4435816dfe9990ec4b5b",
            "d2edac2fd78243e4a75da2a2d44cd311",
            "1439e68bf60348bfa41c797f00a462ba",
            "67afc9c472614b92868bfd2c47160db6",
            "ddfe9e950b524a09b64e5d0920d21a50",
            "330e0a77a4c2497da4b799b47eb171d5",
            "56bdeb7e9b254c6ead06eb3a1d3ded3f",
            "2c8940238fe947e4824db17e7ead6a64",
            "615d9104434447158370cd8432ebb3d2",
            "b5677b018bb14cada7df46637de89396",
            "274d5d36e78f4558816585d9197e7524",
            "879dad1cb0ae48f886731d768c88c947",
            "0792a3772e6141bc97e459e91680928c",
            "a9c5a65820b04992893c64dfc5e38f9c",
            "42060ac0d6694554a84e2460f7b2582f",
            "55a40ceff2394f03800a4c357159bb41",
            "2168eae6f3e543399c51e34dbdce587a"
          ]
        },
        "id": "wYcm2p1yR_jt",
        "outputId": "dfc3e02d-01f0-470c-d7d0-db914b97336d"
      },
      "outputs": [],
      "source": [
        "# Generate a detailed data profiling report for the DataFrame (df) and display it in a Jupyter notebook\n",
        "\n",
        "from ydata_profiling import ProfileReport\n",
        "\n",
        "profile = ProfileReport(df)\n",
        "profile.to_notebook_iframe()"
      ]
    },
    {
      "cell_type": "markdown",
      "metadata": {
        "id": "gr1sIarE4ik0"
      },
      "source": [
        "**I will drop the attribute “Exam_Score” which is the target value for the model and split the dataframe into X and Y.**"
      ]
    },
    {
      "cell_type": "code",
      "execution_count": null,
      "metadata": {
        "id": "tb9A_xEA256c"
      },
      "outputs": [],
      "source": [
        "X = df.drop(columns='Exam_Score',axis=1)\n",
        "Y = df['Exam_Score']"
      ]
    },
    {
      "cell_type": "code",
      "execution_count": null,
      "metadata": {
        "colab": {
          "base_uri": "https://localhost:8080/",
          "height": 383
        },
        "id": "984kcVuvwNSp",
        "outputId": "8f865a4d-41ba-419b-d8f5-28bd8a75e896"
      },
      "outputs": [],
      "source": [
        "X.head(10)"
      ]
    },
    {
      "cell_type": "code",
      "execution_count": null,
      "metadata": {
        "colab": {
          "base_uri": "https://localhost:8080/",
          "height": 397
        },
        "id": "Vm5pvIPy5OvN",
        "outputId": "41152021-0fd4-446e-ff74-180e64775fe7"
      },
      "outputs": [],
      "source": [
        "Y.head(10)"
      ]
    },
    {
      "cell_type": "code",
      "execution_count": null,
      "metadata": {
        "id": "T-8nL_AJtlne"
      },
      "outputs": [],
      "source": [
        "from sklearn.linear_model import LinearRegression, Ridge, Lasso\n",
        "from sklearn.svm import SVR\n",
        "from sklearn.ensemble import (GradientBoostingRegressor)"
      ]
    },
    {
      "cell_type": "code",
      "execution_count": null,
      "metadata": {
        "id": "UkHxIfSpbdUk"
      },
      "outputs": [],
      "source": [
        "# Defining a dictionary of used regression models for machine learnin\n",
        "models = {\n",
        "    \"Linear Regression\": LinearRegression(),\n",
        "    \"Ridge Regression\": Ridge(),\n",
        "    \"Lasso\": Lasso(),\n",
        "    \"Support Vector Regression\": SVR(),\n",
        "    \"Gradient Boosting\": GradientBoostingRegressor(random_state=42),\n",
        "}\n"
      ]
    },
    {
      "cell_type": "code",
      "execution_count": null,
      "metadata": {
        "id": "FXjNjVZcbtgT"
      },
      "outputs": [],
      "source": [
        "# Parameter grid for hyperparameter tuning of different regression models.\n",
        "param_for_grid = {\n",
        "    \"Linear Regression\": {},\n",
        "    \"Lasso\": {\"alpha\": [0.00075, 0.001, 0.010, 0.050]},\n",
        "    \"Ridge Regression\": {\"alpha\": [0.075, 0.085, 0.1, 1.0, 5.0, 10.0]},\n",
        "    \"Gradient Boosting\": {\n",
        "        \"n_estimators\": [100, 200, 250],\n",
        "        \"learning_rate\": [0.01, 0.1, 0.2],\n",
        "    },\n",
        "    \"Support Vector Regression\": {\n",
        "        \"C\": [0.1, 1.0, 10.0],\n",
        "        \"epsilon\": [0.1, 0.2, 0.5],\n",
        "    },\n",
        "}"
      ]
    },
    {
      "cell_type": "code",
      "execution_count": null,
      "metadata": {
        "id": "8OES3BdA5SXa"
      },
      "outputs": [],
      "source": [
        "# Split the dataset into training and testing sets with 80% training data and 20% testing data.\n",
        "X_train, X_test, y_train, y_test = train_test_split(X, Y, test_size=0.2, random_state=42)"
      ]
    },
    {
      "cell_type": "code",
      "execution_count": null,
      "metadata": {
        "id": "CkqTyVFXZ6AU"
      },
      "outputs": [],
      "source": [
        "def manual_cross_val_score_loss(X, y, model, param_grid, cv, first_call):\n",
        "    n = len(X)\n",
        "    fold_size = n // cv\n",
        "\n",
        "    # Generate parameter combinations\n",
        "    param_combinations = list(product(*param_grid.values()))\n",
        "    best_loss = np.inf\n",
        "    best_params = None\n",
        "\n",
        "    results = []\n",
        "\n",
        "    # For each parameter combination\n",
        "    for params in param_combinations:\n",
        "        model.set_params(**dict(zip(param_grid.keys(), params)))\n",
        "\n",
        "        # Cross-validation process\n",
        "        fold_losses = []\n",
        "        for fold in range(cv):\n",
        "            start_idx = fold * fold_size\n",
        "            end_idx = start_idx + fold_size\n",
        "            val_indices = list(range(start_idx, end_idx))\n",
        "            train_indices = list(set(range(n)) - set(val_indices))\n",
        "\n",
        "            # .iloc to select rows based on indices\n",
        "            X_train_cv = X.iloc[train_indices]\n",
        "            y_train_cv = y.iloc[train_indices]\n",
        "            X_val_cv = X.iloc[val_indices]\n",
        "            y_val_cv = y.iloc[val_indices]\n",
        "\n",
        "            # Training the model\n",
        "            model.fit(X_train_cv, y_train_cv)\n",
        "\n",
        "            # Predict and calculate loss\n",
        "            y_pred = model.predict(X_val_cv)\n",
        "            fold_loss = mean_squared_error(y_val_cv, y_pred)\n",
        "            fold_losses.append(fold_loss)\n",
        "\n",
        "        mean_fold_loss = np.mean(fold_losses)\n",
        "        results.append((params, mean_fold_loss))\n",
        "\n",
        "        if mean_fold_loss < best_loss:  # Find the lowest loss\n",
        "            best_loss = mean_fold_loss\n",
        "            best_params = dict(zip(param_grid.keys(), params))\n",
        "\n",
        "    results_df = pd.DataFrame(results, columns=[\"Params\", \"Loss\"])\n",
        "\n",
        "    # Visualization: Loss for parameter combinations\n",
        "    model_name = type(model).__name__\n",
        "\n",
        "    if first_call == True:\n",
        "        plot_model_performance(model_name, param_grid, results_df, best_loss, best_params)\n",
        "\n",
        "    return best_loss, best_params"
      ]
    },
    {
      "cell_type": "code",
      "execution_count": null,
      "metadata": {
        "id": "HsbMwo7bnetO"
      },
      "outputs": [],
      "source": [
        "def plot_model_performance(model_name, param_grid, results_df, best_loss, best_params):\n",
        "    if model_name == \"LinearRegression\":\n",
        "        # Text-based visualization for Linear Regression\n",
        "        plt.figure(figsize=(10, 4))  # Set the figure size\n",
        "        plt.text(0.5, 0.5, f\"Linear Regression doesn't have any hyperparameter\", ha='center', va='center', fontsize=12)\n",
        "        plt.text(0.5, 0.3, f\"MSE: {best_loss:.6f}\", ha='center', va='center', fontsize=10)\n",
        "        # Display text without drawing any graph\n",
        "        plt.axis('off')  # Hide graph axes\n",
        "        plt.show()\n",
        "\n",
        "    elif len(param_grid) == 2:  # If there are two parameters\n",
        "        param_1, param_2 = param_grid.keys()\n",
        "        results_df[param_1] = [p[0] for p in results_df[\"Params\"]]\n",
        "        results_df[param_2] = [p[1] for p in results_df[\"Params\"]]\n",
        "        pivot = results_df.pivot(index=param_1, columns=param_2, values=\"Loss\")\n",
        "\n",
        "        plt.figure(figsize=(10, 8))\n",
        "        ax = sns.heatmap(pivot, annot=True, fmt=\".3f\", cmap=\"coolwarm\", cbar_kws={'label': 'Loss'})\n",
        "        plt.title(f\"{model_name} Hyperparameter Loss Heatmap\")\n",
        "        plt.xlabel(param_2)\n",
        "        plt.ylabel(param_1)\n",
        "\n",
        "        # Display best parameters and loss score on the graph\n",
        "        best_params_text = f\"Best Parameters: {best_params}\\nBest MSE Score: {best_loss:.3f}\"\n",
        "        plt.text(0.5, -0.2, best_params_text, fontsize=10, color=\"blue\",\n",
        "                 transform=ax.transAxes, ha=\"center\", va=\"top\", bbox=dict(boxstyle=\"round\", facecolor=\"white\", alpha=0.8))\n",
        "\n",
        "        plt.show()\n",
        "\n",
        "    else:  # For one-dimensional parameters, plot a line graph\n",
        "        params_flat = [str(p) for p in results_df[\"Params\"]]\n",
        "        plt.figure(figsize=(12, 6))\n",
        "        plt.plot(params_flat, results_df[\"Loss\"], marker='o', linestyle='-', color='b')\n",
        "        plt.title(f\"{model_name} Loss Function Across Hyperparameters\")\n",
        "        plt.xlabel(\"Hyperparameter Combinations\")\n",
        "        plt.ylabel(\"Loss (MSE)\")\n",
        "        plt.xticks(rotation=45)\n",
        "        plt.grid(True)\n",
        "\n",
        "        # Display best parameters and loss score on the graph\n",
        "        best_params_text = f\"Best Parameter: {best_params}\\nBest MSE Score: {best_loss:.6f}\"\n",
        "        plt.text(len(params_flat) * 0.6, min(results_df[\"Loss\"]), best_params_text, fontsize=10, color=\"red\",\n",
        "                 bbox=dict(boxstyle=\"round\", facecolor=\"white\", alpha=0.8))\n",
        "\n",
        "        plt.tight_layout()\n",
        "        plt.show()"
      ]
    },
    {
      "cell_type": "code",
      "execution_count": null,
      "metadata": {
        "colab": {
          "base_uri": "https://localhost:8080/",
          "height": 1000
        },
        "id": "ZPbnkT3R-aOo",
        "outputId": "39426d83-6706-4a8c-ede4-9e99851bd196"
      },
      "outputs": [],
      "source": [
        "best_params = {}\n",
        "best_scores = {}\n",
        "\n",
        "# Grid Search and Cross-Validation\n",
        "for model_name, model in models.items():\n",
        "    print(f\"\\n{model_name} - Grid Search Başladı \\n\")\n",
        "    best_model = None\n",
        "    best_param = None\n",
        "    best_score = -np.inf\n",
        "\n",
        "    if model_name in param_for_grid:\n",
        "        param_grid = param_for_grid[model_name]\n",
        "\n",
        "        # Optimize the hyperparameters by combining cross validation and grid search.\n",
        "        cv_score, params = manual_cross_val_score_loss(X_train, y_train, model, param_grid, cv=5,first_call=True)\n",
        "\n",
        "        best_param = params\n",
        "        best_score = cv_score\n",
        "\n",
        "    # Save the best model\n",
        "    best_params[model_name] = best_param\n",
        "    best_scores[model_name] = best_score\n",
        "    print(\"\\n\")"
      ]
    },
    {
      "cell_type": "code",
      "execution_count": null,
      "metadata": {
        "colab": {
          "base_uri": "https://localhost:8080/"
        },
        "id": "z5ddL4Oa-kLv",
        "outputId": "57bf05fa-0f5f-4ac5-8f6e-373585fd05a1"
      },
      "outputs": [],
      "source": [
        "optimized_models = {}\n",
        "\n",
        "for model_name, model in models.items():\n",
        "    if model_name in best_params:\n",
        "        # Set best parameters to the model\n",
        "        model.set_params(**best_params[model_name])\n",
        "        # Re-train the model with the best parameters\n",
        "        model.fit(X_train, y_train)\n",
        "        # Save the updated mdoel\n",
        "        optimized_models[model_name] = model\n",
        "\n",
        "for model_name, model in optimized_models.items():\n",
        "    print(f\"{model_name} optimize edilmiş model: {model}\")"
      ]
    },
    {
      "cell_type": "code",
      "execution_count": null,
      "metadata": {
        "id": "z8GBAIKjSglo"
      },
      "outputs": [],
      "source": [
        "from sklearn.model_selection import cross_val_score"
      ]
    },
    {
      "cell_type": "code",
      "execution_count": null,
      "metadata": {
        "colab": {
          "base_uri": "https://localhost:8080/"
        },
        "id": "MVe71jQuSMsw",
        "outputId": "ac29d0b6-63ea-4f15-a54b-c854e3b631c3"
      },
      "outputs": [],
      "source": [
        "r2_scores = {}\n",
        "\n",
        "for model_name, model in optimized_models.items():\n",
        "    # Cross-validation process: Evaluation using R2 score\n",
        "    cv_r2_scores = cross_val_score(model, X_train, y_train, cv=5, scoring='r2')\n",
        "\n",
        "    # Save the average R2 score\n",
        "    r2_scores[model_name] = np.mean(cv_r2_scores)\n",
        "\n",
        "# Compare the R2 scores\n",
        "print(\"R2 Skorları:\")\n",
        "for model_name, r2_score_value in r2_scores.items():\n",
        "    print(f\"{model_name}: {r2_score_value:.4f}\")\n",
        "\n",
        "best_model_name = max(r2_scores, key=r2_scores.get)\n",
        "print(f\"\\nEn yüksek R2 skoruna sahip model: {best_model_name} ({r2_scores[best_model_name]:.4f})\")"
      ]
    },
    {
      "cell_type": "code",
      "execution_count": null,
      "metadata": {
        "colab": {
          "base_uri": "https://localhost:8080/",
          "height": 607
        },
        "id": "mtk_F-kdTIop",
        "outputId": "0274591b-402f-43d6-a004-0404389d6b88"
      },
      "outputs": [],
      "source": [
        "# Separation of R2 scores into model names and scores\n",
        "model_names = list(r2_scores.keys())\n",
        "r2_values = list(r2_scores.values())\n",
        "\n",
        "# Setting of graphic size\n",
        "plt.figure(figsize=(10, 6))\n",
        "\n",
        "# Barplot\n",
        "sns.barplot(x=model_names, y=r2_values, palette='viridis')\n",
        "\n",
        "# Labels and Titles\n",
        "plt.title('Model Comparison: R2 Scores', fontsize=18, fontweight='bold', color='darkblue')\n",
        "plt.xlabel('Models', fontsize=15, color='darkgreen')\n",
        "plt.ylabel('R2 Score', fontsize=15, color='darkgreen')\n",
        "\n",
        "# Y axis limits\n",
        "plt.ylim(0, 1)\n",
        "\n",
        "# Grid settings\n",
        "plt.grid(axis='y', linestyle='--', alpha=0.6, color='gray')\n",
        "\n",
        "# Writing R2 scores on each bar\n",
        "for i, v in enumerate(r2_values):\n",
        "    plt.text(i, v + 0.02, f\"{v:.4f}\", ha='center', fontsize=12, color='black')\n",
        "\n",
        "plt.tight_layout()\n",
        "\n",
        "plt.show()"
      ]
    },
    {
      "cell_type": "code",
      "execution_count": null,
      "metadata": {
        "colab": {
          "base_uri": "https://localhost:8080/",
          "height": 1000
        },
        "id": "LlonPhB4zegg",
        "outputId": "c78c90e1-a339-446c-a5a5-35399ac0f4ef"
      },
      "outputs": [],
      "source": [
        "for model_name, model in optimized_models.items():\n",
        "    print(\"\\n\")\n",
        "    print(f\"{model_name} modelini değerlendirme...\\n\")\n",
        "\n",
        "    # Making prediction on test set\n",
        "    y_pred = model.predict(X_test)\n",
        "\n",
        "    # MSE calculation\n",
        "    mse = mean_squared_error(y_test, y_pred)\n",
        "    print(f\"{model_name} - Test Seti MSE: {mse:.4f}\\n\")\n",
        "\n",
        "    # Plotting the comparison between True vs Predicted values using a scatter plot and regression line\n",
        "    plt.figure(figsize=(8, 5))\n",
        "    sns.regplot(x=y_test, y=y_pred, ci=None, color='teal', marker='D', scatter_kws={'s':70, 'alpha':0.8})\n",
        "\n",
        "    # Plotting reference line for perfect prediction\n",
        "    max_val = max(max(y_test), max(y_pred))\n",
        "    min_val = min(min(y_test), min(y_pred))\n",
        "    plt.plot([min_val, max_val], [min_val, max_val], color='purple', linestyle='-.', lw=3)\n",
        "\n",
        "    # Adjust plot limits to give more space for grid and MSE box\n",
        "    padding = (max_val - min_val) * 0.1\n",
        "    plt.xlim(min_val - padding, max_val + padding)\n",
        "    plt.ylim(min_val - padding, max_val + padding)\n",
        "\n",
        "    # Setting plot titles and labels\n",
        "    plt.title(f'{model_name} - True vs Predicted Values', fontsize=16, fontweight='bold', color='darkblue')\n",
        "    plt.xlabel('True Values', fontsize=14, color='darkgreen')\n",
        "    plt.ylabel('Predicted Values', fontsize=14, color='darkgreen')\n",
        "\n",
        "    # Adding grid and adjusting layout\n",
        "    plt.grid(True, linestyle='-.', alpha=0.7, color='grey')\n",
        "\n",
        "    # Adding MSE text to the plot\n",
        "    plt.text(\n",
        "        max_val - padding * 1.2,\n",
        "        min_val + padding * 0.2,\n",
        "        f'MSE: {mse:.4f}',\n",
        "        fontsize=12,\n",
        "        color='red',\n",
        "        fontweight='bold',\n",
        "        bbox=dict(facecolor='white', alpha=0.9, edgecolor='red', boxstyle='round,pad=0.4')\n",
        "    )\n",
        "\n",
        "    # Show plot for this model\n",
        "    plt.tight_layout()\n",
        "    plt.show()"
      ]
    },
    {
      "cell_type": "code",
      "execution_count": null,
      "metadata": {
        "colab": {
          "base_uri": "https://localhost:8080/"
        },
        "id": "NBhGGTYX79fN",
        "outputId": "39fb9445-672a-407b-b97f-df2f58b75703"
      },
      "outputs": [],
      "source": [
        "acc = []\n",
        "names = ['Linear Regression', 'Ridge', 'Lasso', 'SVR', 'Gradient Boosting']\n",
        "\n",
        "# Calculate scores of models\n",
        "for model_name, model in optimized_models.items():\n",
        "    # Make predictions on the test set\n",
        "    y_pred = model.predict(X_test)\n",
        "\n",
        "    # Calculation of R2 score\n",
        "    score = r2_score(y_test, y_pred)\n",
        "\n",
        "    acc.append(score)\n",
        "\n",
        "for name, score in zip(names, acc):\n",
        "    print(f\"{name} - R2 Score: {score:.4f}\")"
      ]
    },
    {
      "cell_type": "code",
      "execution_count": null,
      "metadata": {
        "colab": {
          "base_uri": "https://localhost:8080/",
          "height": 607
        },
        "id": "qcGKFklJ9dZL",
        "outputId": "1f932c5d-7f44-4ab5-a494-2041a57b0be1"
      },
      "outputs": [],
      "source": [
        "import matplotlib.pyplot as plt\n",
        "import seaborn as sns\n",
        "\n",
        "# Plotting the accuracy scores of the models\n",
        "plt.figure(figsize=(10, 6))\n",
        "\n",
        "sns.barplot(x=names, y=acc, palette='viridis')\n",
        "\n",
        "plt.title('Model Comparison: Accuracy Scores', fontsize=18, fontweight='bold', color='darkblue')\n",
        "plt.xlabel('Models', fontsize=15, color='darkgreen')\n",
        "plt.ylabel('Accuracy Score', fontsize=15, color='darkgreen')\n",
        "\n",
        "# Y axis limits\n",
        "plt.ylim(0, 1)\n",
        "\n",
        "# Grid settings\n",
        "plt.grid(axis='y', linestyle='--', alpha=0.6, color='gray')\n",
        "\n",
        "# Writing R2 scores on each bar\n",
        "for i, v in enumerate(acc):\n",
        "    plt.text(i, v + 0.02, f\"{v:.4f}\", ha='center', fontsize=12, color='black')\n",
        "\n",
        "plt.tight_layout()\n",
        "\n",
        "plt.show()"
      ]
    },
    {
      "cell_type": "code",
      "execution_count": null,
      "metadata": {
        "colab": {
          "base_uri": "https://localhost:8080/"
        },
        "id": "xdo7jH-GzT7v",
        "outputId": "50431813-de37-4a81-dac7-912d657b0401"
      },
      "outputs": [],
      "source": [
        "best_model = Lasso(alpha=0.001)\n",
        "best_model.fit(X_train, y_train)\n",
        "y_pred=best_model.predict(X_test)\n",
        "\n",
        "# Calculating and printing the mean squared error (MSE) and R² scores for training and test sets\n",
        "print(\"mean_squared_error: \",mean_squared_error(y_test, y_pred))\n",
        "print(\"mean absolute error: \",mean_absolute_error(y_test, y_pred))\n",
        "print(\"r2_score: \",r2_score(y_test, y_pred))\n"
      ]
    },
    {
      "cell_type": "code",
      "execution_count": null,
      "metadata": {
        "id": "JkAgERC972jj"
      },
      "outputs": [],
      "source": [
        "import pickle"
      ]
    },
    {
      "cell_type": "code",
      "execution_count": null,
      "metadata": {
        "id": "3auariTfQiqP"
      },
      "outputs": [],
      "source": [
        "# Define the filename for saving the model\n",
        "filename = 'student_performance_model.sav'\n",
        "\n",
        "# Save the trained model using pickle\n",
        "pickle.dump(best_model, open(filename, 'wb'))"
      ]
    },
    {
      "cell_type": "code",
      "execution_count": null,
      "metadata": {
        "id": "G-rQUdMvQo7S"
      },
      "outputs": [],
      "source": [
        "# loading the saved model\n",
        "loaded_model = pickle.load(open('student_performance_model.sav', 'rb'))"
      ]
    },
    {
      "cell_type": "markdown",
      "metadata": {
        "id": "s1b0i1o6Mqx2"
      },
      "source": [
        "# DEPLOYMENT OF MODEL TO ONLINE"
      ]
    },
    {
      "cell_type": "code",
      "execution_count": null,
      "metadata": {
        "colab": {
          "base_uri": "https://localhost:8080/"
        },
        "id": "pLsnDk7mScSR",
        "outputId": "91b108ce-47bc-4750-e9c8-f0e385af98b1"
      },
      "outputs": [],
      "source": [
        "!pip install streamlit"
      ]
    },
    {
      "cell_type": "code",
      "execution_count": null,
      "metadata": {
        "colab": {
          "base_uri": "https://localhost:8080/"
        },
        "id": "dftN8HNVSeWO",
        "outputId": "b884e07e-b384-436c-8090-ef7f0ad550b4"
      },
      "outputs": [],
      "source": [
        "pip install streamlit_option_menu"
      ]
    },
    {
      "cell_type": "code",
      "execution_count": null,
      "metadata": {
        "id": "YBJLHGt6zQdj"
      },
      "outputs": [],
      "source": [
        "app_code = \"\"\"\n",
        "import pickle\n",
        "import streamlit as st\n",
        "import pandas as pd\n",
        "from sklearn.preprocessing import StandardScaler\n",
        "\n",
        "# Set page configuration\n",
        "st.set_page_config(page_title=\"Student Performance Predictor\", layout=\"wide\", page_icon=\"📊\")\n",
        "\n",
        "# Load the saved model\n",
        "import os\n",
        "working_dir = os.path.dirname(os.path.abspath(__file__))\n",
        "performance_model = pickle.load(open(f\"{working_dir}/student_performance_model.sav\", 'rb'))\n",
        "\n",
        "# Title and description\n",
        "st.title(\"🎓 Student Performance Predictor\")\n",
        "st.write(\"Fill in the details below to predict the student's performance score.\")\n",
        "\n",
        "# Create form layout using columns\n",
        "col1, col2, col3 = st.columns(3)\n",
        "\n",
        "# Input fields in col1\n",
        "with col1:\n",
        "    hours_studied = st.number_input(\"📖 Hours Studied\", min_value=1, max_value=44, step=1)\n",
        "    attendance = st.slider(\"🎓 Attendance (%)\", min_value=60, max_value=100, step=1)\n",
        "    parental_involvement = st.selectbox(\"👨‍👩‍👧 Parental Involvement\", [\"Low\", \"Medium\", \"High\"])\n",
        "    access_to_resources = st.selectbox(\"📚 Access to Resources\", [\"Low\", \"Medium\", \"High\"])\n",
        "    extracurricular_activities = st.selectbox(\"🏆 Extracurricular Activities\", [\"No\", \"Yes\"])\n",
        "    sleep_hours = st.selectbox(\"💤 Sleep Hours\", [4, 5, 6, 7, 8, 9, 10])\n",
        "\n",
        "# Input fields in col2\n",
        "with col2:\n",
        "    previous_scores = st.slider(\"📊 Previous Scores (%)\", min_value=50, max_value=100, step=1)\n",
        "    motivation_level = st.selectbox(\"💪 Motivation Level\", [\"Low\", \"Medium\", \"High\"])\n",
        "    internet_access = st.selectbox(\"🌐 Internet Access\", [\"Yes\", \"No\"])\n",
        "    tutoring_sessions = st.selectbox(\"📚 Tutoring Sessions\", [0, 1, 2, 3, 4, 5, 6, 7, 8])\n",
        "    family_income = st.selectbox(\"💰 Family Income\", [\"Low\", \"Medium\", \"High\"])\n",
        "    teacher_quality = st.selectbox(\"👩‍🏫 Teacher Quality\", [\"Low\", \"Medium\", \"High\"])\n",
        "\n",
        "# Input fields in col3\n",
        "with col3:\n",
        "    school_type = st.selectbox(\"🏫 School Type\", [\"Public\", \"Private\"])\n",
        "    peer_influence = st.selectbox(\"👫 Peer Influence\", [\"Negative\", \"Neutral\", \"Positive\"])\n",
        "    physical_activity = st.selectbox(\"🏃 Physical Activity (Hours)\", [0, 1, 2, 3, 4, 5, 6])\n",
        "    learning_disabilities = st.selectbox(\"🧠 Learning Disabilities\", [\"No\", \"Yes\"])\n",
        "    parental_education = st.selectbox(\"🎓 Parental Education Level\", [\"High School\", \"College\", \"Postgraduate\"])\n",
        "    distance_from_home = st.selectbox(\"🏠 Distance from Home\", [\"Near\", \"Moderate\", \"Far\"])\n",
        "    gender = st.selectbox(\"👤 Gender\", [\"Male\", \"Female\"])\n",
        "\n",
        "# Data preprocessing\n",
        "data = pd.DataFrame({\n",
        "    'Hours_Studied': [hours_studied],\n",
        "    'Attendance': [attendance],\n",
        "    'Parental_Involvement': [parental_involvement],\n",
        "    'Access_to_Resources': [access_to_resources],\n",
        "    'Extracurricular_Activities': [extracurricular_activities],\n",
        "    'Sleep_Hours': [sleep_hours],\n",
        "    'Previous_Scores': [previous_scores],\n",
        "    'Motivation_Level': [motivation_level],\n",
        "    'Internet_Access': [internet_access],\n",
        "    'Tutoring_Sessions': [tutoring_sessions],\n",
        "    'Family_Income': [family_income],\n",
        "    'Teacher_Quality': [teacher_quality],\n",
        "    'School_Type': [school_type],\n",
        "    'Peer_Influence': [peer_influence],\n",
        "    'Physical_Activity': [physical_activity],\n",
        "    'Learning_Disabilities': [learning_disabilities],\n",
        "    'Parental_Education_Level': [parental_education],\n",
        "    'Distance_from_Home': [distance_from_home],\n",
        "    'Gender': [gender]\n",
        "})\n",
        "\n",
        "# Define the correct order of columns\n",
        "ordered_columns = [\n",
        "    'Hours_Studied', 'Attendance', 'Parental_Involvement', 'Access_to_Resources', 'Extracurricular_Activities',\n",
        "    'Sleep_Hours', 'Previous_Scores', 'Motivation_Level', 'Internet_Access', 'Tutoring_Sessions',\n",
        "    'Family_Income', 'Teacher_Quality', 'School_Type', 'Peer_Influence', 'Physical_Activity',\n",
        "    'Learning_Disabilities', 'Parental_Education_Level', 'Distance_from_Home', 'Gender'\n",
        "]\n",
        "\n",
        "# Reorder the data columns to match the model's expected order\n",
        "data = data[ordered_columns]\n",
        "\n",
        "# Custom scaling function for specific ranges\n",
        "def custom_scale(value, min_value, max_value):\n",
        "    return (value - min_value) / (max_value - min_value)\n",
        "\n",
        "# Apply custom scaling for specific columns\n",
        "data['Attendance'] = custom_scale(data['Attendance'][0], 60, 100)  # Scale between 60 and 100\n",
        "data['Hours_Studied'] = custom_scale(data['Hours_Studied'][0], 1, 44)  # Scale between 1 and 44\n",
        "data['Previous_Scores'] = custom_scale(data['Previous_Scores'][0], 50, 100)  # Scale between 50 and 100\n",
        "data['Sleep_Hours'] = custom_scale(data['Sleep_Hours'][0], 4, 10)  # Scale between 4 and 10\n",
        "data['Tutoring_Sessions'] = custom_scale(data['Tutoring_Sessions'][0], 0, 8)  # Scale between 0 and 8\n",
        "data['Physical_Activity'] = custom_scale(data['Physical_Activity'][0], 0, 6)  # Scale between 0 and 6\n",
        "\n",
        "# Manual Label Encoding as per the specified mapping\n",
        "data['Gender'] = data['Gender'].map({'Male': 1, 'Female': 0})\n",
        "data['Extracurricular_Activities'] = data['Extracurricular_Activities'].map({'No': 0, 'Yes': 1})\n",
        "data['Internet_Access'] = data['Internet_Access'].map({'Yes': 1, 'No': 0})\n",
        "data['School_Type'] = data['School_Type'].map({'Public': 1, 'Private': 0})\n",
        "data['Learning_Disabilities'] = data['Learning_Disabilities'].map({'No': 0, 'Yes': 1})\n",
        "data['Parental_Involvement'] = data['Parental_Involvement'].map({'Low': 0, 'Medium': 1, 'High': 2})\n",
        "data['Access_to_Resources'] = data['Access_to_Resources'].map({'Low': 0, 'Medium': 1, 'High': 2})\n",
        "data['Motivation_Level'] = data['Motivation_Level'].map({'Low': 0, 'Medium': 1, 'High': 2})\n",
        "data['Family_Income'] = data['Family_Income'].map({'Low': 0, 'Medium': 1, 'High': 2})\n",
        "data['Teacher_Quality'] = data['Teacher_Quality'].map({'Low': 0, 'Medium': 1, 'High': 2})\n",
        "data['Peer_Influence'] = data['Peer_Influence'].map({'Negative': 0, 'Neutral': 1, 'Positive': 2})\n",
        "data['Parental_Education_Level'] = data['Parental_Education_Level'].map({'High School': 0, 'College': 1, 'Postgraduate': 2})\n",
        "data['Distance_from_Home'] = data['Distance_from_Home'].map({'Near': 0, 'Moderate': 1, 'Far': 2})\n",
        "\n",
        "# Prediction button\n",
        "st.write(\"### 🔍 Prediction Result\")\n",
        "if st.button(\"🚀 Predict\"):\n",
        "    prediction = performance_model.predict(data)\n",
        "    st.success(f\"🎯 The predicted student performance score is: **{prediction[0]:.2f}**\")\n",
        "\"\"\"\n",
        "\n",
        "# Write the app code to a file\n",
        "with open('app.py', 'w') as f:\n",
        "    f.write(app_code)"
      ]
    },
    {
      "cell_type": "markdown",
      "metadata": {
        "id": "j0S9Om7FySyx"
      },
      "source": [
        "Thanks to the streamlit code above, I have provided an interface to my application. I have already saved the best machine learning model, now we can publish our application on the internet by combining the interface and the machine learning model."
      ]
    },
    {
      "cell_type": "markdown",
      "metadata": {
        "id": "6Zur4h6oywTg"
      },
      "source": [
        "**The final version of the application is live on the internet with the following link :**  [https://deustudent.streamlit.app](https://deustudent.streamlit.app)\n"
      ]
    }
  ],
  "metadata": {
    "colab": {
      "provenance": []
    },
    "kernelspec": {
      "display_name": ".venv",
      "language": "python",
      "name": "python3"
    },
    "language_info": {
      "codemirror_mode": {
        "name": "ipython",
        "version": 3
      },
      "file_extension": ".py",
      "mimetype": "text/x-python",
      "name": "python",
      "nbconvert_exporter": "python",
      "pygments_lexer": "ipython3",
      "version": "3.12.6"
    },
    "widgets": {
      "application/vnd.jupyter.widget-state+json": {
        "0792a3772e6141bc97e459e91680928c": {
          "model_module": "@jupyter-widgets/controls",
          "model_module_version": "1.5.0",
          "model_name": "DescriptionStyleModel",
          "state": {
            "_model_module": "@jupyter-widgets/controls",
            "_model_module_version": "1.5.0",
            "_model_name": "DescriptionStyleModel",
            "_view_count": null,
            "_view_module": "@jupyter-widgets/base",
            "_view_module_version": "1.2.0",
            "_view_name": "StyleView",
            "description_width": ""
          }
        },
        "1439e68bf60348bfa41c797f00a462ba": {
          "model_module": "@jupyter-widgets/base",
          "model_module_version": "1.2.0",
          "model_name": "LayoutModel",
          "state": {
            "_model_module": "@jupyter-widgets/base",
            "_model_module_version": "1.2.0",
            "_model_name": "LayoutModel",
            "_view_count": null,
            "_view_module": "@jupyter-widgets/base",
            "_view_module_version": "1.2.0",
            "_view_name": "LayoutView",
            "align_content": null,
            "align_items": null,
            "align_self": null,
            "border": null,
            "bottom": null,
            "display": null,
            "flex": null,
            "flex_flow": null,
            "grid_area": null,
            "grid_auto_columns": null,
            "grid_auto_flow": null,
            "grid_auto_rows": null,
            "grid_column": null,
            "grid_gap": null,
            "grid_row": null,
            "grid_template_areas": null,
            "grid_template_columns": null,
            "grid_template_rows": null,
            "height": null,
            "justify_content": null,
            "justify_items": null,
            "left": null,
            "margin": null,
            "max_height": null,
            "max_width": null,
            "min_height": null,
            "min_width": null,
            "object_fit": null,
            "object_position": null,
            "order": null,
            "overflow": null,
            "overflow_x": null,
            "overflow_y": null,
            "padding": null,
            "right": null,
            "top": null,
            "visibility": null,
            "width": null
          }
        },
        "14665a7394b94aabb3d5e3eb6a1d8457": {
          "model_module": "@jupyter-widgets/controls",
          "model_module_version": "1.5.0",
          "model_name": "HTMLModel",
          "state": {
            "_dom_classes": [],
            "_model_module": "@jupyter-widgets/controls",
            "_model_module_version": "1.5.0",
            "_model_name": "HTMLModel",
            "_view_count": null,
            "_view_module": "@jupyter-widgets/controls",
            "_view_module_version": "1.5.0",
            "_view_name": "HTMLView",
            "description": "",
            "description_tooltip": null,
            "layout": "IPY_MODEL_c75d4df0a14f42a2ae61655c606e5f84",
            "placeholder": "​",
            "style": "IPY_MODEL_c44bd66390fa4710b1cfa89f75d4eba6",
            "value": " 78/78 [00:29&lt;00:00,  1.19it/s, Completed]"
          }
        },
        "1f12890feabf4a5f8fc693fa6ca63a47": {
          "model_module": "@jupyter-widgets/controls",
          "model_module_version": "1.5.0",
          "model_name": "DescriptionStyleModel",
          "state": {
            "_model_module": "@jupyter-widgets/controls",
            "_model_module_version": "1.5.0",
            "_model_name": "DescriptionStyleModel",
            "_view_count": null,
            "_view_module": "@jupyter-widgets/base",
            "_view_module_version": "1.2.0",
            "_view_name": "StyleView",
            "description_width": ""
          }
        },
        "2168eae6f3e543399c51e34dbdce587a": {
          "model_module": "@jupyter-widgets/controls",
          "model_module_version": "1.5.0",
          "model_name": "DescriptionStyleModel",
          "state": {
            "_model_module": "@jupyter-widgets/controls",
            "_model_module_version": "1.5.0",
            "_model_name": "DescriptionStyleModel",
            "_view_count": null,
            "_view_module": "@jupyter-widgets/base",
            "_view_module_version": "1.2.0",
            "_view_name": "StyleView",
            "description_width": ""
          }
        },
        "274d5d36e78f4558816585d9197e7524": {
          "model_module": "@jupyter-widgets/base",
          "model_module_version": "1.2.0",
          "model_name": "LayoutModel",
          "state": {
            "_model_module": "@jupyter-widgets/base",
            "_model_module_version": "1.2.0",
            "_model_name": "LayoutModel",
            "_view_count": null,
            "_view_module": "@jupyter-widgets/base",
            "_view_module_version": "1.2.0",
            "_view_name": "LayoutView",
            "align_content": null,
            "align_items": null,
            "align_self": null,
            "border": null,
            "bottom": null,
            "display": null,
            "flex": null,
            "flex_flow": null,
            "grid_area": null,
            "grid_auto_columns": null,
            "grid_auto_flow": null,
            "grid_auto_rows": null,
            "grid_column": null,
            "grid_gap": null,
            "grid_row": null,
            "grid_template_areas": null,
            "grid_template_columns": null,
            "grid_template_rows": null,
            "height": null,
            "justify_content": null,
            "justify_items": null,
            "left": null,
            "margin": null,
            "max_height": null,
            "max_width": null,
            "min_height": null,
            "min_width": null,
            "object_fit": null,
            "object_position": null,
            "order": null,
            "overflow": null,
            "overflow_x": null,
            "overflow_y": null,
            "padding": null,
            "right": null,
            "top": null,
            "visibility": null,
            "width": null
          }
        },
        "287e10f751304800a1bd80a2d7fc28fd": {
          "model_module": "@jupyter-widgets/controls",
          "model_module_version": "1.5.0",
          "model_name": "HBoxModel",
          "state": {
            "_dom_classes": [],
            "_model_module": "@jupyter-widgets/controls",
            "_model_module_version": "1.5.0",
            "_model_name": "HBoxModel",
            "_view_count": null,
            "_view_module": "@jupyter-widgets/controls",
            "_view_module_version": "1.5.0",
            "_view_name": "HBoxView",
            "box_style": "",
            "children": [
              "IPY_MODEL_c55f8f7d2e834f4894334d86a21ac01f",
              "IPY_MODEL_e6a7d86fad804d3c8955e26133b46040",
              "IPY_MODEL_68f319595a924c00b0b47981b47faf4d"
            ],
            "layout": "IPY_MODEL_c8620fc6386045789cc30f53c5fd60c2"
          }
        },
        "2c8940238fe947e4824db17e7ead6a64": {
          "model_module": "@jupyter-widgets/controls",
          "model_module_version": "1.5.0",
          "model_name": "HTMLModel",
          "state": {
            "_dom_classes": [],
            "_model_module": "@jupyter-widgets/controls",
            "_model_module_version": "1.5.0",
            "_model_name": "HTMLModel",
            "_view_count": null,
            "_view_module": "@jupyter-widgets/controls",
            "_view_module_version": "1.5.0",
            "_view_name": "HTMLView",
            "description": "",
            "description_tooltip": null,
            "layout": "IPY_MODEL_879dad1cb0ae48f886731d768c88c947",
            "placeholder": "​",
            "style": "IPY_MODEL_0792a3772e6141bc97e459e91680928c",
            "value": "Render HTML: 100%"
          }
        },
        "330e0a77a4c2497da4b799b47eb171d5": {
          "model_module": "@jupyter-widgets/controls",
          "model_module_version": "1.5.0",
          "model_name": "DescriptionStyleModel",
          "state": {
            "_model_module": "@jupyter-widgets/controls",
            "_model_module_version": "1.5.0",
            "_model_name": "DescriptionStyleModel",
            "_view_count": null,
            "_view_module": "@jupyter-widgets/base",
            "_view_module_version": "1.2.0",
            "_view_name": "StyleView",
            "description_width": ""
          }
        },
        "42060ac0d6694554a84e2460f7b2582f": {
          "model_module": "@jupyter-widgets/controls",
          "model_module_version": "1.5.0",
          "model_name": "ProgressStyleModel",
          "state": {
            "_model_module": "@jupyter-widgets/controls",
            "_model_module_version": "1.5.0",
            "_model_name": "ProgressStyleModel",
            "_view_count": null,
            "_view_module": "@jupyter-widgets/base",
            "_view_module_version": "1.2.0",
            "_view_name": "StyleView",
            "bar_color": null,
            "description_width": ""
          }
        },
        "55a40ceff2394f03800a4c357159bb41": {
          "model_module": "@jupyter-widgets/base",
          "model_module_version": "1.2.0",
          "model_name": "LayoutModel",
          "state": {
            "_model_module": "@jupyter-widgets/base",
            "_model_module_version": "1.2.0",
            "_model_name": "LayoutModel",
            "_view_count": null,
            "_view_module": "@jupyter-widgets/base",
            "_view_module_version": "1.2.0",
            "_view_name": "LayoutView",
            "align_content": null,
            "align_items": null,
            "align_self": null,
            "border": null,
            "bottom": null,
            "display": null,
            "flex": null,
            "flex_flow": null,
            "grid_area": null,
            "grid_auto_columns": null,
            "grid_auto_flow": null,
            "grid_auto_rows": null,
            "grid_column": null,
            "grid_gap": null,
            "grid_row": null,
            "grid_template_areas": null,
            "grid_template_columns": null,
            "grid_template_rows": null,
            "height": null,
            "justify_content": null,
            "justify_items": null,
            "left": null,
            "margin": null,
            "max_height": null,
            "max_width": null,
            "min_height": null,
            "min_width": null,
            "object_fit": null,
            "object_position": null,
            "order": null,
            "overflow": null,
            "overflow_x": null,
            "overflow_y": null,
            "padding": null,
            "right": null,
            "top": null,
            "visibility": null,
            "width": null
          }
        },
        "56bdeb7e9b254c6ead06eb3a1d3ded3f": {
          "model_module": "@jupyter-widgets/controls",
          "model_module_version": "1.5.0",
          "model_name": "HBoxModel",
          "state": {
            "_dom_classes": [],
            "_model_module": "@jupyter-widgets/controls",
            "_model_module_version": "1.5.0",
            "_model_name": "HBoxModel",
            "_view_count": null,
            "_view_module": "@jupyter-widgets/controls",
            "_view_module_version": "1.5.0",
            "_view_name": "HBoxView",
            "box_style": "",
            "children": [
              "IPY_MODEL_2c8940238fe947e4824db17e7ead6a64",
              "IPY_MODEL_615d9104434447158370cd8432ebb3d2",
              "IPY_MODEL_b5677b018bb14cada7df46637de89396"
            ],
            "layout": "IPY_MODEL_274d5d36e78f4558816585d9197e7524"
          }
        },
        "615d9104434447158370cd8432ebb3d2": {
          "model_module": "@jupyter-widgets/controls",
          "model_module_version": "1.5.0",
          "model_name": "FloatProgressModel",
          "state": {
            "_dom_classes": [],
            "_model_module": "@jupyter-widgets/controls",
            "_model_module_version": "1.5.0",
            "_model_name": "FloatProgressModel",
            "_view_count": null,
            "_view_module": "@jupyter-widgets/controls",
            "_view_module_version": "1.5.0",
            "_view_name": "ProgressView",
            "bar_style": "success",
            "description": "",
            "description_tooltip": null,
            "layout": "IPY_MODEL_a9c5a65820b04992893c64dfc5e38f9c",
            "max": 1,
            "min": 0,
            "orientation": "horizontal",
            "style": "IPY_MODEL_42060ac0d6694554a84e2460f7b2582f",
            "value": 1
          }
        },
        "67aa25c700cf4fba830142f3f79c4188": {
          "model_module": "@jupyter-widgets/base",
          "model_module_version": "1.2.0",
          "model_name": "LayoutModel",
          "state": {
            "_model_module": "@jupyter-widgets/base",
            "_model_module_version": "1.2.0",
            "_model_name": "LayoutModel",
            "_view_count": null,
            "_view_module": "@jupyter-widgets/base",
            "_view_module_version": "1.2.0",
            "_view_name": "LayoutView",
            "align_content": null,
            "align_items": null,
            "align_self": null,
            "border": null,
            "bottom": null,
            "display": null,
            "flex": null,
            "flex_flow": null,
            "grid_area": null,
            "grid_auto_columns": null,
            "grid_auto_flow": null,
            "grid_auto_rows": null,
            "grid_column": null,
            "grid_gap": null,
            "grid_row": null,
            "grid_template_areas": null,
            "grid_template_columns": null,
            "grid_template_rows": null,
            "height": null,
            "justify_content": null,
            "justify_items": null,
            "left": null,
            "margin": null,
            "max_height": null,
            "max_width": null,
            "min_height": null,
            "min_width": null,
            "object_fit": null,
            "object_position": null,
            "order": null,
            "overflow": null,
            "overflow_x": null,
            "overflow_y": null,
            "padding": null,
            "right": null,
            "top": null,
            "visibility": null,
            "width": null
          }
        },
        "67afc9c472614b92868bfd2c47160db6": {
          "model_module": "@jupyter-widgets/controls",
          "model_module_version": "1.5.0",
          "model_name": "ProgressStyleModel",
          "state": {
            "_model_module": "@jupyter-widgets/controls",
            "_model_module_version": "1.5.0",
            "_model_name": "ProgressStyleModel",
            "_view_count": null,
            "_view_module": "@jupyter-widgets/base",
            "_view_module_version": "1.2.0",
            "_view_name": "StyleView",
            "bar_color": null,
            "description_width": ""
          }
        },
        "68f319595a924c00b0b47981b47faf4d": {
          "model_module": "@jupyter-widgets/controls",
          "model_module_version": "1.5.0",
          "model_name": "HTMLModel",
          "state": {
            "_dom_classes": [],
            "_model_module": "@jupyter-widgets/controls",
            "_model_module_version": "1.5.0",
            "_model_name": "HTMLModel",
            "_view_count": null,
            "_view_module": "@jupyter-widgets/controls",
            "_view_module_version": "1.5.0",
            "_view_name": "HTMLView",
            "description": "",
            "description_tooltip": null,
            "layout": "IPY_MODEL_ddfe9e950b524a09b64e5d0920d21a50",
            "placeholder": "​",
            "style": "IPY_MODEL_330e0a77a4c2497da4b799b47eb171d5",
            "value": " 1/1 [00:20&lt;00:00, 20.14s/it]"
          }
        },
        "879dad1cb0ae48f886731d768c88c947": {
          "model_module": "@jupyter-widgets/base",
          "model_module_version": "1.2.0",
          "model_name": "LayoutModel",
          "state": {
            "_model_module": "@jupyter-widgets/base",
            "_model_module_version": "1.2.0",
            "_model_name": "LayoutModel",
            "_view_count": null,
            "_view_module": "@jupyter-widgets/base",
            "_view_module_version": "1.2.0",
            "_view_name": "LayoutView",
            "align_content": null,
            "align_items": null,
            "align_self": null,
            "border": null,
            "bottom": null,
            "display": null,
            "flex": null,
            "flex_flow": null,
            "grid_area": null,
            "grid_auto_columns": null,
            "grid_auto_flow": null,
            "grid_auto_rows": null,
            "grid_column": null,
            "grid_gap": null,
            "grid_row": null,
            "grid_template_areas": null,
            "grid_template_columns": null,
            "grid_template_rows": null,
            "height": null,
            "justify_content": null,
            "justify_items": null,
            "left": null,
            "margin": null,
            "max_height": null,
            "max_width": null,
            "min_height": null,
            "min_width": null,
            "object_fit": null,
            "object_position": null,
            "order": null,
            "overflow": null,
            "overflow_x": null,
            "overflow_y": null,
            "padding": null,
            "right": null,
            "top": null,
            "visibility": null,
            "width": null
          }
        },
        "a9c5a65820b04992893c64dfc5e38f9c": {
          "model_module": "@jupyter-widgets/base",
          "model_module_version": "1.2.0",
          "model_name": "LayoutModel",
          "state": {
            "_model_module": "@jupyter-widgets/base",
            "_model_module_version": "1.2.0",
            "_model_name": "LayoutModel",
            "_view_count": null,
            "_view_module": "@jupyter-widgets/base",
            "_view_module_version": "1.2.0",
            "_view_name": "LayoutView",
            "align_content": null,
            "align_items": null,
            "align_self": null,
            "border": null,
            "bottom": null,
            "display": null,
            "flex": null,
            "flex_flow": null,
            "grid_area": null,
            "grid_auto_columns": null,
            "grid_auto_flow": null,
            "grid_auto_rows": null,
            "grid_column": null,
            "grid_gap": null,
            "grid_row": null,
            "grid_template_areas": null,
            "grid_template_columns": null,
            "grid_template_rows": null,
            "height": null,
            "justify_content": null,
            "justify_items": null,
            "left": null,
            "margin": null,
            "max_height": null,
            "max_width": null,
            "min_height": null,
            "min_width": null,
            "object_fit": null,
            "object_position": null,
            "order": null,
            "overflow": null,
            "overflow_x": null,
            "overflow_y": null,
            "padding": null,
            "right": null,
            "top": null,
            "visibility": null,
            "width": null
          }
        },
        "b5677b018bb14cada7df46637de89396": {
          "model_module": "@jupyter-widgets/controls",
          "model_module_version": "1.5.0",
          "model_name": "HTMLModel",
          "state": {
            "_dom_classes": [],
            "_model_module": "@jupyter-widgets/controls",
            "_model_module_version": "1.5.0",
            "_model_name": "HTMLModel",
            "_view_count": null,
            "_view_module": "@jupyter-widgets/controls",
            "_view_module_version": "1.5.0",
            "_view_name": "HTMLView",
            "description": "",
            "description_tooltip": null,
            "layout": "IPY_MODEL_55a40ceff2394f03800a4c357159bb41",
            "placeholder": "​",
            "style": "IPY_MODEL_2168eae6f3e543399c51e34dbdce587a",
            "value": " 1/1 [00:02&lt;00:00,  2.67s/it]"
          }
        },
        "b9afd6897d9b47f6a2ec6e91ea292251": {
          "model_module": "@jupyter-widgets/controls",
          "model_module_version": "1.5.0",
          "model_name": "FloatProgressModel",
          "state": {
            "_dom_classes": [],
            "_model_module": "@jupyter-widgets/controls",
            "_model_module_version": "1.5.0",
            "_model_name": "FloatProgressModel",
            "_view_count": null,
            "_view_module": "@jupyter-widgets/controls",
            "_view_module_version": "1.5.0",
            "_view_name": "ProgressView",
            "bar_style": "success",
            "description": "",
            "description_tooltip": null,
            "layout": "IPY_MODEL_cac25faec78544f7a9732abcedd8dc7f",
            "max": 5,
            "min": 0,
            "orientation": "horizontal",
            "style": "IPY_MODEL_ec943521207a4f99b8b146473e926c7c",
            "value": 5
          }
        },
        "c44bd66390fa4710b1cfa89f75d4eba6": {
          "model_module": "@jupyter-widgets/controls",
          "model_module_version": "1.5.0",
          "model_name": "DescriptionStyleModel",
          "state": {
            "_model_module": "@jupyter-widgets/controls",
            "_model_module_version": "1.5.0",
            "_model_name": "DescriptionStyleModel",
            "_view_count": null,
            "_view_module": "@jupyter-widgets/base",
            "_view_module_version": "1.2.0",
            "_view_name": "StyleView",
            "description_width": ""
          }
        },
        "c55f8f7d2e834f4894334d86a21ac01f": {
          "model_module": "@jupyter-widgets/controls",
          "model_module_version": "1.5.0",
          "model_name": "HTMLModel",
          "state": {
            "_dom_classes": [],
            "_model_module": "@jupyter-widgets/controls",
            "_model_module_version": "1.5.0",
            "_model_name": "HTMLModel",
            "_view_count": null,
            "_view_module": "@jupyter-widgets/controls",
            "_view_module_version": "1.5.0",
            "_view_name": "HTMLView",
            "description": "",
            "description_tooltip": null,
            "layout": "IPY_MODEL_fd1efa3da98d4435816dfe9990ec4b5b",
            "placeholder": "​",
            "style": "IPY_MODEL_d2edac2fd78243e4a75da2a2d44cd311",
            "value": "Generate report structure: 100%"
          }
        },
        "c75d4df0a14f42a2ae61655c606e5f84": {
          "model_module": "@jupyter-widgets/base",
          "model_module_version": "1.2.0",
          "model_name": "LayoutModel",
          "state": {
            "_model_module": "@jupyter-widgets/base",
            "_model_module_version": "1.2.0",
            "_model_name": "LayoutModel",
            "_view_count": null,
            "_view_module": "@jupyter-widgets/base",
            "_view_module_version": "1.2.0",
            "_view_name": "LayoutView",
            "align_content": null,
            "align_items": null,
            "align_self": null,
            "border": null,
            "bottom": null,
            "display": null,
            "flex": null,
            "flex_flow": null,
            "grid_area": null,
            "grid_auto_columns": null,
            "grid_auto_flow": null,
            "grid_auto_rows": null,
            "grid_column": null,
            "grid_gap": null,
            "grid_row": null,
            "grid_template_areas": null,
            "grid_template_columns": null,
            "grid_template_rows": null,
            "height": null,
            "justify_content": null,
            "justify_items": null,
            "left": null,
            "margin": null,
            "max_height": null,
            "max_width": null,
            "min_height": null,
            "min_width": null,
            "object_fit": null,
            "object_position": null,
            "order": null,
            "overflow": null,
            "overflow_x": null,
            "overflow_y": null,
            "padding": null,
            "right": null,
            "top": null,
            "visibility": null,
            "width": null
          }
        },
        "c8620fc6386045789cc30f53c5fd60c2": {
          "model_module": "@jupyter-widgets/base",
          "model_module_version": "1.2.0",
          "model_name": "LayoutModel",
          "state": {
            "_model_module": "@jupyter-widgets/base",
            "_model_module_version": "1.2.0",
            "_model_name": "LayoutModel",
            "_view_count": null,
            "_view_module": "@jupyter-widgets/base",
            "_view_module_version": "1.2.0",
            "_view_name": "LayoutView",
            "align_content": null,
            "align_items": null,
            "align_self": null,
            "border": null,
            "bottom": null,
            "display": null,
            "flex": null,
            "flex_flow": null,
            "grid_area": null,
            "grid_auto_columns": null,
            "grid_auto_flow": null,
            "grid_auto_rows": null,
            "grid_column": null,
            "grid_gap": null,
            "grid_row": null,
            "grid_template_areas": null,
            "grid_template_columns": null,
            "grid_template_rows": null,
            "height": null,
            "justify_content": null,
            "justify_items": null,
            "left": null,
            "margin": null,
            "max_height": null,
            "max_width": null,
            "min_height": null,
            "min_width": null,
            "object_fit": null,
            "object_position": null,
            "order": null,
            "overflow": null,
            "overflow_x": null,
            "overflow_y": null,
            "padding": null,
            "right": null,
            "top": null,
            "visibility": null,
            "width": null
          }
        },
        "cac25faec78544f7a9732abcedd8dc7f": {
          "model_module": "@jupyter-widgets/base",
          "model_module_version": "1.2.0",
          "model_name": "LayoutModel",
          "state": {
            "_model_module": "@jupyter-widgets/base",
            "_model_module_version": "1.2.0",
            "_model_name": "LayoutModel",
            "_view_count": null,
            "_view_module": "@jupyter-widgets/base",
            "_view_module_version": "1.2.0",
            "_view_name": "LayoutView",
            "align_content": null,
            "align_items": null,
            "align_self": null,
            "border": null,
            "bottom": null,
            "display": null,
            "flex": null,
            "flex_flow": null,
            "grid_area": null,
            "grid_auto_columns": null,
            "grid_auto_flow": null,
            "grid_auto_rows": null,
            "grid_column": null,
            "grid_gap": null,
            "grid_row": null,
            "grid_template_areas": null,
            "grid_template_columns": null,
            "grid_template_rows": null,
            "height": null,
            "justify_content": null,
            "justify_items": null,
            "left": null,
            "margin": null,
            "max_height": null,
            "max_width": null,
            "min_height": null,
            "min_width": null,
            "object_fit": null,
            "object_position": null,
            "order": null,
            "overflow": null,
            "overflow_x": null,
            "overflow_y": null,
            "padding": null,
            "right": null,
            "top": null,
            "visibility": null,
            "width": null
          }
        },
        "d2edac2fd78243e4a75da2a2d44cd311": {
          "model_module": "@jupyter-widgets/controls",
          "model_module_version": "1.5.0",
          "model_name": "DescriptionStyleModel",
          "state": {
            "_model_module": "@jupyter-widgets/controls",
            "_model_module_version": "1.5.0",
            "_model_name": "DescriptionStyleModel",
            "_view_count": null,
            "_view_module": "@jupyter-widgets/base",
            "_view_module_version": "1.2.0",
            "_view_name": "StyleView",
            "description_width": ""
          }
        },
        "d37fbb90993a4b269a93e1aee1e165cb": {
          "model_module": "@jupyter-widgets/controls",
          "model_module_version": "1.5.0",
          "model_name": "HTMLModel",
          "state": {
            "_dom_classes": [],
            "_model_module": "@jupyter-widgets/controls",
            "_model_module_version": "1.5.0",
            "_model_name": "HTMLModel",
            "_view_count": null,
            "_view_module": "@jupyter-widgets/controls",
            "_view_module_version": "1.5.0",
            "_view_name": "HTMLView",
            "description": "",
            "description_tooltip": null,
            "layout": "IPY_MODEL_67aa25c700cf4fba830142f3f79c4188",
            "placeholder": "​",
            "style": "IPY_MODEL_1f12890feabf4a5f8fc693fa6ca63a47",
            "value": "Summarize dataset: 100%"
          }
        },
        "ddfe9e950b524a09b64e5d0920d21a50": {
          "model_module": "@jupyter-widgets/base",
          "model_module_version": "1.2.0",
          "model_name": "LayoutModel",
          "state": {
            "_model_module": "@jupyter-widgets/base",
            "_model_module_version": "1.2.0",
            "_model_name": "LayoutModel",
            "_view_count": null,
            "_view_module": "@jupyter-widgets/base",
            "_view_module_version": "1.2.0",
            "_view_name": "LayoutView",
            "align_content": null,
            "align_items": null,
            "align_self": null,
            "border": null,
            "bottom": null,
            "display": null,
            "flex": null,
            "flex_flow": null,
            "grid_area": null,
            "grid_auto_columns": null,
            "grid_auto_flow": null,
            "grid_auto_rows": null,
            "grid_column": null,
            "grid_gap": null,
            "grid_row": null,
            "grid_template_areas": null,
            "grid_template_columns": null,
            "grid_template_rows": null,
            "height": null,
            "justify_content": null,
            "justify_items": null,
            "left": null,
            "margin": null,
            "max_height": null,
            "max_width": null,
            "min_height": null,
            "min_width": null,
            "object_fit": null,
            "object_position": null,
            "order": null,
            "overflow": null,
            "overflow_x": null,
            "overflow_y": null,
            "padding": null,
            "right": null,
            "top": null,
            "visibility": null,
            "width": null
          }
        },
        "e6a7d86fad804d3c8955e26133b46040": {
          "model_module": "@jupyter-widgets/controls",
          "model_module_version": "1.5.0",
          "model_name": "FloatProgressModel",
          "state": {
            "_dom_classes": [],
            "_model_module": "@jupyter-widgets/controls",
            "_model_module_version": "1.5.0",
            "_model_name": "FloatProgressModel",
            "_view_count": null,
            "_view_module": "@jupyter-widgets/controls",
            "_view_module_version": "1.5.0",
            "_view_name": "ProgressView",
            "bar_style": "success",
            "description": "",
            "description_tooltip": null,
            "layout": "IPY_MODEL_1439e68bf60348bfa41c797f00a462ba",
            "max": 1,
            "min": 0,
            "orientation": "horizontal",
            "style": "IPY_MODEL_67afc9c472614b92868bfd2c47160db6",
            "value": 1
          }
        },
        "e7373a59788e40b2a3be9297b45c70c8": {
          "model_module": "@jupyter-widgets/base",
          "model_module_version": "1.2.0",
          "model_name": "LayoutModel",
          "state": {
            "_model_module": "@jupyter-widgets/base",
            "_model_module_version": "1.2.0",
            "_model_name": "LayoutModel",
            "_view_count": null,
            "_view_module": "@jupyter-widgets/base",
            "_view_module_version": "1.2.0",
            "_view_name": "LayoutView",
            "align_content": null,
            "align_items": null,
            "align_self": null,
            "border": null,
            "bottom": null,
            "display": null,
            "flex": null,
            "flex_flow": null,
            "grid_area": null,
            "grid_auto_columns": null,
            "grid_auto_flow": null,
            "grid_auto_rows": null,
            "grid_column": null,
            "grid_gap": null,
            "grid_row": null,
            "grid_template_areas": null,
            "grid_template_columns": null,
            "grid_template_rows": null,
            "height": null,
            "justify_content": null,
            "justify_items": null,
            "left": null,
            "margin": null,
            "max_height": null,
            "max_width": null,
            "min_height": null,
            "min_width": null,
            "object_fit": null,
            "object_position": null,
            "order": null,
            "overflow": null,
            "overflow_x": null,
            "overflow_y": null,
            "padding": null,
            "right": null,
            "top": null,
            "visibility": null,
            "width": null
          }
        },
        "ec943521207a4f99b8b146473e926c7c": {
          "model_module": "@jupyter-widgets/controls",
          "model_module_version": "1.5.0",
          "model_name": "ProgressStyleModel",
          "state": {
            "_model_module": "@jupyter-widgets/controls",
            "_model_module_version": "1.5.0",
            "_model_name": "ProgressStyleModel",
            "_view_count": null,
            "_view_module": "@jupyter-widgets/base",
            "_view_module_version": "1.2.0",
            "_view_name": "StyleView",
            "bar_color": null,
            "description_width": ""
          }
        },
        "f1e1aad5d3cf4b589aeb74ef75581f4c": {
          "model_module": "@jupyter-widgets/controls",
          "model_module_version": "1.5.0",
          "model_name": "HBoxModel",
          "state": {
            "_dom_classes": [],
            "_model_module": "@jupyter-widgets/controls",
            "_model_module_version": "1.5.0",
            "_model_name": "HBoxModel",
            "_view_count": null,
            "_view_module": "@jupyter-widgets/controls",
            "_view_module_version": "1.5.0",
            "_view_name": "HBoxView",
            "box_style": "",
            "children": [
              "IPY_MODEL_d37fbb90993a4b269a93e1aee1e165cb",
              "IPY_MODEL_b9afd6897d9b47f6a2ec6e91ea292251",
              "IPY_MODEL_14665a7394b94aabb3d5e3eb6a1d8457"
            ],
            "layout": "IPY_MODEL_e7373a59788e40b2a3be9297b45c70c8"
          }
        },
        "fd1efa3da98d4435816dfe9990ec4b5b": {
          "model_module": "@jupyter-widgets/base",
          "model_module_version": "1.2.0",
          "model_name": "LayoutModel",
          "state": {
            "_model_module": "@jupyter-widgets/base",
            "_model_module_version": "1.2.0",
            "_model_name": "LayoutModel",
            "_view_count": null,
            "_view_module": "@jupyter-widgets/base",
            "_view_module_version": "1.2.0",
            "_view_name": "LayoutView",
            "align_content": null,
            "align_items": null,
            "align_self": null,
            "border": null,
            "bottom": null,
            "display": null,
            "flex": null,
            "flex_flow": null,
            "grid_area": null,
            "grid_auto_columns": null,
            "grid_auto_flow": null,
            "grid_auto_rows": null,
            "grid_column": null,
            "grid_gap": null,
            "grid_row": null,
            "grid_template_areas": null,
            "grid_template_columns": null,
            "grid_template_rows": null,
            "height": null,
            "justify_content": null,
            "justify_items": null,
            "left": null,
            "margin": null,
            "max_height": null,
            "max_width": null,
            "min_height": null,
            "min_width": null,
            "object_fit": null,
            "object_position": null,
            "order": null,
            "overflow": null,
            "overflow_x": null,
            "overflow_y": null,
            "padding": null,
            "right": null,
            "top": null,
            "visibility": null,
            "width": null
          }
        }
      }
    }
  },
  "nbformat": 4,
  "nbformat_minor": 0
}

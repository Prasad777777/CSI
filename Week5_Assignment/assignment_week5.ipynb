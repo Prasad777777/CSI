{
 "cells": [
  {
   "cell_type": "markdown",
   "id": "4c92d6d9",
   "metadata": {},
   "source": [
    "# House Price Prediction\n",
    "\n",
    "## Data Preprocessing and feature engineering\n",
    "\n",
    "Author - `Prasad Parjane`"
   ]
  }
 ],
 "metadata": {
  "language_info": {
   "name": "python"
  }
 },
 "nbformat": 4,
 "nbformat_minor": 5
}

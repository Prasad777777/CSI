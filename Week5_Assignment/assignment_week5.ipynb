{
 "cells": [
  {
   "cell_type": "markdown",
   "id": "4c92d6d9",
   "metadata": {},
   "source": [
    "# House Price Prediction\n",
    "\n",
    "## Data Preprocessing and feature engineering\n",
    "\n",
    "**Author** - `Prasad Parjane`\n",
    "\n",
    "Source -(https://www.kaggle.com/competitions/house-prices-advanced-regression-techniques/data?select=train.csv)\n",
    "\n"
   ]
  }
 ],
 "metadata": {
  "language_info": {
   "name": "python"
  }
 },
 "nbformat": 4,
 "nbformat_minor": 5
}

{
 "cells": [
  {
   "cell_type": "markdown",
   "id": "4c92d6d9",
   "metadata": {},
   "source": [
    "**# House Price Prediction**\n",
    "\n",
    "## Data Preprocessing and feature engineering\n",
    "\n",
    "**Author** - `Prasad Parjane`\n",
    "\n",
    "**Source**-(https://www.kaggle.com/competitions/house-prices-advanced-regression-techniques/data?select=train.csv)\n",
    "\n",
    "**Objective** - To predict the sales price of each house using the feature engineering and advanced regression techniques like random forest and gradient boosting\n",
    "\n"
   ]
  },
  {
   "cell_type": "code",
   "execution_count": null,
   "id": "c05279c1",
   "metadata": {
    "vscode": {
     "languageId": "plaintext"
    }
   },
   "outputs": [],
   "source": [
    "# import required python libraries"
   ]
  }
 ],
 "metadata": {
  "language_info": {
   "name": "python"
  }
 },
 "nbformat": 4,
 "nbformat_minor": 5
}

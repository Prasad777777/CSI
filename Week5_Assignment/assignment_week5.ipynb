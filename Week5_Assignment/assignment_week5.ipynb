{
 "cells": [
  {
   "cell_type": "markdown",
   "id": "4c92d6d9",
   "metadata": {},
   "source": [
    "**# House Price Prediction**\n",
    "\n",
    "## Data Preprocessing and feature engineering\n",
    "\n",
    "**Author** - `Prasad Parjane`\n",
    "\n",
    "**Source**-(https://www.kaggle.com/competitions/house-prices-advanced-regression-techniques/data?select=train.csv)\n",
    "\n",
    "**Objective** - To predict the sales price of each house using the feature engineering and advanced regression techniques like random forest and gradient boosting\n",
    "\n"
   ]
  },
  {
   "cell_type": "code",
   "execution_count": null,
   "id": "c05279c1",
   "metadata": {},
   "outputs": [],
   "source": [
    "# import required python libraries\n",
    "\n",
    "import pandas as pd\n",
    "import numpy as np\n",
    "import matplotlib.pyplot as plt\n",
    "import seaborn as sns"
   ]
  },
  {
   "cell_type": "markdown",
   "id": "abdcd731",
   "metadata": {},
   "source": [
    "**STEP 1 : LOAD THE DATASET AMD INSPECTION OF DATASET**\n",
    "\n",
    "Importing the required python libraries. Thereafter loading the dataset and inspecting the dataset by printing the first 5 rows of the dataset\n",
    "\n",
    "DATASET : \n",
    "1. test.csv\n",
    "2. train.csv"
   ]
  },
  {
   "cell_type": "code",
   "execution_count": null,
   "id": "43766879",
   "metadata": {},
   "outputs": [
    {
     "ename": "SyntaxError",
     "evalue": "(unicode error) 'unicodeescape' codec can't decode bytes in position 2-3: truncated \\UXXXXXXXX escape (35122919.py, line 1)",
     "output_type": "error",
     "traceback": [
      "\u001b[1;36m  Cell \u001b[1;32mIn[6], line 1\u001b[1;36m\u001b[0m\n\u001b[1;33m    df = pd.read_csv(\"C:\\Users\\Asus Vivobook 15\\Desktop\\CSI\\Week5_Assignment\\Data_Files\\train.csv\")\u001b[0m\n\u001b[1;37m                     ^\u001b[0m\n\u001b[1;31mSyntaxError\u001b[0m\u001b[1;31m:\u001b[0m (unicode error) 'unicodeescape' codec can't decode bytes in position 2-3: truncated \\UXXXXXXXX escape\n"
     ]
    }
   ],
   "source": [
    "df = pd.read_csv(r\"C:\\Users\\Asus Vivobook 15\\Desktop\\CSI\\Week5_Assignment\\Data_Files\\train.csv\")\n",
    "print(f\"Shape of the dataset: {df.shape}\")\n",
    "\n",
    "print(\"\\nColumns in the dataset:\")\n",
    "df.info()\n",
    "\n",
    "print(\"\\nFirst few rows of the dataset:\")\n",
    "print(df.head())"
   ]
  }
 ],
 "metadata": {
  "kernelspec": {
   "display_name": "base",
   "language": "python",
   "name": "python3"
  },
  "language_info": {
   "codemirror_mode": {
    "name": "ipython",
    "version": 3
   },
   "file_extension": ".py",
   "mimetype": "text/x-python",
   "name": "python",
   "nbconvert_exporter": "python",
   "pygments_lexer": "ipython3",
   "version": "3.12.4"
  }
 },
 "nbformat": 4,
 "nbformat_minor": 5
}

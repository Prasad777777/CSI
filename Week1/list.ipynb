{
 "cells": [
  {
   "cell_type": "code",
   "execution_count": 1,
   "id": "55083e28",
   "metadata": {},
   "outputs": [
    {
     "name": "stdout",
     "output_type": "stream",
     "text": [
      "Hello World\n"
     ]
    }
   ],
   "source": [
    "print(\"Hello World\")"
   ]
  },
  {
   "cell_type": "code",
   "execution_count": 2,
   "id": "595f9af2",
   "metadata": {},
   "outputs": [
    {
     "name": "stdout",
     "output_type": "stream",
     "text": [
      "Sorted list is: [0, 1, 2, 3, 4, 5, 6, 7, 8, 9]\n"
     ]
    }
   ],
   "source": [
    "# Sorting a list\n",
    "li = [3,5,2,6,4,7,9,8,1,0]\n",
    "li.sort()\n",
    "print(\"Sorted list is:\", li)"
   ]
  },
  {
   "cell_type": "code",
   "execution_count": 3,
   "id": "41757ffc",
   "metadata": {},
   "outputs": [
    {
     "name": "stdout",
     "output_type": "stream",
     "text": [
      "Sorted list in reverse order is [9, 8, 7, 6, 5, 4, 3, 2, 1, 0]\n"
     ]
    }
   ],
   "source": [
    "# Sorting in reverse order/ descending order\n",
    "sor_li = sorted(li, reverse=True)\n",
    "print(\"Sorted list in reverse order is\", sor_li)"
   ]
  },
  {
   "cell_type": "code",
   "execution_count": 4,
   "id": "66052708",
   "metadata": {},
   "outputs": [
    {
     "name": "stdout",
     "output_type": "stream",
     "text": [
      "Sorted tuple is [0, 1, 2, 3, 4, 5, 6, 7, 8, 9]\n"
     ]
    }
   ],
   "source": [
    "# Sorting the tuple and output it in form of list\n",
    "tup = (3,5,2,1,6,9,8,7,4,0)\n",
    "s_tup = sorted(tup)\n",
    "print(\"Sorted tuple is\", s_tup)"
   ]
  },
  {
   "cell_type": "code",
   "execution_count": 6,
   "id": "5851b541",
   "metadata": {},
   "outputs": [
    {
     "name": "stdout",
     "output_type": "stream",
     "text": [
      "Sorted dictionary is ['age', 'city', 'name']\n"
     ]
    }
   ],
   "source": [
    "# Sorting the dictionary and output it in form of list\n",
    "dic = {'name': 'John', 'age': 25, 'city': 'New York'}\n",
    "s_dic = sorted((dic))\n",
    "print(\"Sorted dictionary is\", s_dic)"
   ]
  }
 ],
 "metadata": {
  "kernelspec": {
   "display_name": "base",
   "language": "python",
   "name": "python3"
  },
  "language_info": {
   "codemirror_mode": {
    "name": "ipython",
    "version": 3
   },
   "file_extension": ".py",
   "mimetype": "text/x-python",
   "name": "python",
   "nbconvert_exporter": "python",
   "pygments_lexer": "ipython3",
   "version": "3.12.4"
  }
 },
 "nbformat": 4,
 "nbformat_minor": 5
}

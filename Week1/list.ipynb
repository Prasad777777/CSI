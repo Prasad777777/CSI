{
 "cells": [
  {
   "cell_type": "code",
   "execution_count": 1,
   "id": "55083e28",
   "metadata": {},
   "outputs": [
    {
     "name": "stdout",
     "output_type": "stream",
     "text": [
      "Hello World\n"
     ]
    }
   ],
   "source": [
    "print(\"Hello World\")"
   ]
  },
  {
   "cell_type": "code",
   "execution_count": 2,
   "id": "595f9af2",
   "metadata": {},
   "outputs": [
    {
     "name": "stdout",
     "output_type": "stream",
     "text": [
      "Sorted list is: [0, 1, 2, 3, 4, 5, 6, 7, 8, 9]\n"
     ]
    }
   ],
   "source": [
    "# Sorting a list\n",
    "li = [3,5,2,6,4,7,9,8,1,0]\n",
    "li.sort()\n",
    "print(\"Sorted list is:\", li)"
   ]
  },
  {
   "cell_type": "code",
   "execution_count": 3,
   "id": "41757ffc",
   "metadata": {},
   "outputs": [
    {
     "name": "stdout",
     "output_type": "stream",
     "text": [
      "Sorted list in reverse order is [9, 8, 7, 6, 5, 4, 3, 2, 1, 0]\n"
     ]
    }
   ],
   "source": [
    "# Sorting in reverse order/ descending order\n",
    "sor_li = sorted(li, reverse=True)\n",
    "print(\"Sorted list in reverse order is\", sor_li)"
   ]
  },
  {
   "cell_type": "code",
   "execution_count": 7,
   "id": "66052708",
   "metadata": {},
   "outputs": [
    {
     "name": "stdout",
     "output_type": "stream",
     "text": [
      "Sorted tuple is [0, 1, 2, 3, 4, 5, 6, 7, 8, 9]\n"
     ]
    }
   ],
   "source": [
    "# Sorting the tuple and output it in form of list\n",
    "tup = (3,5,2,1,6,9,8,7,4,0)\n",
    "s_tup = sorted(tup)\n",
    "print(\"Sorted tuple is\", s_tup)"
   ]
  },
  {
   "cell_type": "code",
   "execution_count": 6,
   "id": "5851b541",
   "metadata": {},
   "outputs": [
    {
     "name": "stdout",
     "output_type": "stream",
     "text": [
      "Sorted dictionary is ['age', 'city', 'name']\n"
     ]
    }
   ],
   "source": [
    "# Sorting the dictionary and output it in form of list\n",
    "dic = {'name': 'John', 'age': 25, 'city': 'New York'}\n",
    "s_dic = sorted((dic))\n",
    "print(\"Sorted dictionary is\", s_dic)"
   ]
  },
  {
   "cell_type": "code",
   "execution_count": null,
   "id": "b24f83ef",
   "metadata": {},
   "outputs": [
    {
     "name": "stdout",
     "output_type": "stream",
     "text": [
      "Courses are: ['DMW', 'DBMS', 'OS', 'DSA', 'CN']\n",
      "The length of list is  5\n"
     ]
    }
   ],
   "source": [
    "courses = ['DMW', 'DBMS', 'OS', 'DSA', 'CN']\n",
    "print(\"Courses are:\", courses)\n",
    "\n",
    "# Printing length of list using len() function\n",
    "print('The length of list is:',len(courses))"
   ]
  },
  {
   "cell_type": "code",
   "execution_count": 6,
   "id": "3eecfa98",
   "metadata": {},
   "outputs": [
    {
     "name": "stdout",
     "output_type": "stream",
     "text": [
      "DMW\n",
      "CN\n"
     ]
    }
   ],
   "source": [
    "# Accessing elements of list using index\n",
    "courses = ['DMW', 'DBMS', 'OS', 'DSA', 'CN']\n",
    "print(courses[0]) # First element\n",
    " \n",
    "# Negative indexs\n",
    "print(courses[-1]) "
   ]
  },
  {
   "cell_type": "code",
   "execution_count": 9,
   "id": "c0f09fd6",
   "metadata": {},
   "outputs": [
    {
     "name": "stdout",
     "output_type": "stream",
     "text": [
      "['DMW', 'DBMS']\n",
      "['DMW', 'DBMS']\n",
      "['OS', 'DSA', 'CN']\n"
     ]
    }
   ],
   "source": [
    "# Acessing multiple elements through slicing\n",
    "courses = ['DMW', 'DBMS', 'OS', 'DSA', 'CN']\n",
    "print(courses[0:2])\n",
    "print(courses[:2])\n",
    "\n",
    "print(courses[2:])"
   ]
  },
  {
   "cell_type": "code",
   "execution_count": null,
   "id": "c2a55e79",
   "metadata": {},
   "outputs": [],
   "source": [
    "# List Method 1\n",
    "# Adding element at last using append() method\n",
    "\n",
    "courses = ['DMW', 'DBMS', 'OS', 'DSA', 'CN']\n",
    "print(courses)\n",
    "courses.append('SS')\n",
    "print('New List is: ' courses)"
   ]
  },
  {
   "cell_type": "code",
   "execution_count": null,
   "id": "04c817e4",
   "metadata": {},
   "outputs": [],
   "source": []
  }
 ],
 "metadata": {
  "kernelspec": {
   "display_name": "base",
   "language": "python",
   "name": "python3"
  },
  "language_info": {
   "codemirror_mode": {
    "name": "ipython",
    "version": 3
   },
   "file_extension": ".py",
   "mimetype": "text/x-python",
   "name": "python",
   "nbconvert_exporter": "python",
   "pygments_lexer": "ipython3",
   "version": "3.12.4"
  }
 },
 "nbformat": 4,
 "nbformat_minor": 5
}

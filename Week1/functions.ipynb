{
 "cells": [
  {
   "cell_type": "markdown",
   "id": "ca11d867",
   "metadata": {},
   "source": [
    "# **PYTHON FUNCTIONS**\n",
    "A function is a block of code which runs only when it is called.\n",
    "\n",
    "You can pass data, known as parameters into a function.\n",
    "\n",
    "A function can return data as a result.\n"
   ]
  },
  {
   "cell_type": "markdown",
   "id": "f000c0ca",
   "metadata": {},
   "source": [
    "**# CREATING A FUNCTION**\n",
    "\n",
    "In python a function is created using the keyord 'def'\n",
    "\n",
    "To call a function, use the function name followed by a parenthesis"
   ]
  },
  {
   "cell_type": "code",
   "execution_count": 3,
   "id": "db9b94d6",
   "metadata": {},
   "outputs": [
    {
     "name": "stdout",
     "output_type": "stream",
     "text": [
      "Hello World\n"
     ]
    }
   ],
   "source": [
    "def my_function():\n",
    "    print(\"Hello World\")\n",
    "    \n",
    "my_function()"
   ]
  },
  {
   "cell_type": "markdown",
   "id": "1266506d",
   "metadata": {},
   "source": [
    "# **ARGUMENTS**\n",
    "\n",
    "Information can be passed into functions as a arguments\n",
    "\n",
    "Arguments are specified after the function name, inside the parentheses. \n",
    "\n",
    "You can add as many as arguments you want just separate it with using commas.\n"
   ]
  },
  {
   "cell_type": "code",
   "execution_count": null,
   "id": "9c0aa19d",
   "metadata": {},
   "outputs": [
    {
     "name": "stdout",
     "output_type": "stream",
     "text": [
      "The addition is  5\n",
      "The addition is  15\n"
     ]
    }
   ],
   "source": [
    "# Function to add 2 numbers\n",
    "\n",
    "def addition(a, b):\n",
    "    print(\"The addition is \",a+b)\n",
    "    \n",
    "\n",
    "# Calling the function\n",
    "addition(2,3)\n",
    "addition(5,10)"
   ]
  },
  {
   "cell_type": "code",
   "execution_count": 8,
   "id": "97e41859",
   "metadata": {},
   "outputs": [
    {
     "name": "stdout",
     "output_type": "stream",
     "text": [
      "The additoion is  9\n",
      "The additoion is  30\n"
     ]
    }
   ],
   "source": [
    "# Function to add 3 numbers\n",
    "\n",
    "def addition(a, b, c):\n",
    "    print(\"The additoion is \", a+b+c)\n",
    "    \n",
    "addition(2,3,4)\n",
    "addition(5,10,15)"
   ]
  },
  {
   "cell_type": "markdown",
   "id": "f17d5790",
   "metadata": {},
   "source": [
    "# **ARBITRARY ARGUMENTS-*args**\n",
    "\n",
    "If you dont know how many arguments that will be passed into your function, add a * before the parameter name in the function definition."
   ]
  },
  {
   "cell_type": "code",
   "execution_count": null,
   "id": "672422be",
   "metadata": {},
   "outputs": [
    {
     "name": "stdout",
     "output_type": "stream",
     "text": [
      "The youngest child is Linus\n"
     ]
    }
   ],
   "source": [
    "def my_function(*kids):\n",
    "  print(\"The youngest child is \" + kids[2])\n",
    "\n",
    "my_function(\"Emil\", \"Tobias\", \"Linus\")\n"
   ]
  },
  {
   "cell_type": "code",
   "execution_count": null,
   "id": "28d2e4a3",
   "metadata": {},
   "outputs": [
    {
     "name": "stdout",
     "output_type": "stream",
     "text": [
      "My friends are John, Doe and Smith\n"
     ]
    }
   ],
   "source": [
    "def my_function(frd1, frd2, frd3):\n",
    "    print(\"My friends are \" + frd1 + \", \" + frd2 + \" and \" + frd3)\n",
    "\n",
    "my_function(\"John\", \"Doe\", \"Smith\")    "
   ]
  },
  {
   "cell_type": "markdown",
   "id": "7158c33f",
   "metadata": {},
   "source": [
    "**# PASSING LIST AS AN ARGUMENTS**\n",
    "\n",
    "You can send any data types of argument to a function (string, number, list, dictionary etc.), and it will be treated as the same data type inside the function.\n",
    "\n",
    "E.g. if you send a List as an argument, it will still be a List when it reaches the function:"
   ]
  },
  {
   "cell_type": "code",
   "execution_count": null,
   "id": "3ac56b6d",
   "metadata": {},
   "outputs": [],
   "source": [
    "def food_menu(food):\n",
    "    for x in food:\n",
    "        print(x)\n",
    "        \n",
    "food = [\"Pizza\", \"Burger\", \"Pasta\", \"Salad\"]\n",
    "food_menu(food)"
   ]
  },
  {
   "cell_type": "markdown",
   "id": "da2fa17e",
   "metadata": {},
   "source": [
    "# **PYTHON LAMBDA FUNCTION**\n",
    "\n",
    "A LAMBDA FUNCTION is a small anonymous function.\n",
    "\n",
    "A Lambda Function can take any number of arguments, but can only have one expression.\n"
   ]
  },
  {
   "cell_type": "markdown",
   "id": "48dbb285",
   "metadata": {},
   "source": [
    "**# SYNTAX**\n",
    "\n",
    "lambda arguments : expressiom"
   ]
  },
  {
   "cell_type": "code",
   "execution_count": null,
   "id": "6dc07a8d",
   "metadata": {},
   "outputs": [
    {
     "name": "stdout",
     "output_type": "stream",
     "text": [
      "12\n",
      "15\n",
      "6\n"
     ]
    }
   ],
   "source": [
    "# 1. Example - Lambda function having 1 parameters\n",
    "x = lambda a : a + 10\n",
    "print(x(2))\n",
    "\n",
    "# 2. Example - Lambda function having 2 parameters\n",
    "x = lambda a,b : a + b\n",
    "print(x(5, 10))\n",
    "\n",
    "# 3. Example - Lambda function having 3 parameters\n",
    "x = lambda a, b, c : a + b + c\n",
    "print(x(1,2,3)\n",
    "      )\n"
   ]
  },
  {
   "cell_type": "markdown",
   "id": "730f2f7b",
   "metadata": {},
   "source": [
    "# **Why to use lambda function ?**\n",
    "\n",
    "The lambda function is use as an anonymous function inside the another function"
   ]
  },
  {
   "cell_type": "code",
   "execution_count": 5,
   "id": "b7cf4549",
   "metadata": {},
   "outputs": [
    {
     "name": "stdout",
     "output_type": "stream",
     "text": [
      "20\n",
      "15\n"
     ]
    }
   ],
   "source": [
    "def multiplication (n):\n",
    "    return lambda a : a * n\n",
    "\n",
    "x = multiplication(2)\n",
    "y = multiplication(5)\n",
    "\n",
    "print(x(10))\n",
    "print(y(3))\n"
   ]
  }
 ],
 "metadata": {
  "kernelspec": {
   "display_name": "base",
   "language": "python",
   "name": "python3"
  },
  "language_info": {
   "codemirror_mode": {
    "name": "ipython",
    "version": 3
   },
   "file_extension": ".py",
   "mimetype": "text/x-python",
   "name": "python",
   "nbconvert_exporter": "python",
   "pygments_lexer": "ipython3",
   "version": "3.12.4"
  }
 },
 "nbformat": 4,
 "nbformat_minor": 5
}

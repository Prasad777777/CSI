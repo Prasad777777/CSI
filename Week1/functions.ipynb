{
 "cells": [
  {
   "cell_type": "markdown",
   "id": "ca11d867",
   "metadata": {},
   "source": [
    "# **PYTHON FUNCTIONS**\n",
    "A function is a block of code which runs only when it is called.\n",
    "\n",
    "You can pass data, known as parameters into a function.\n",
    "\n",
    "A function can return data as a result.\n"
   ]
  },
  {
   "cell_type": "markdown",
   "id": "f000c0ca",
   "metadata": {},
   "source": [
    "**# CREATING A FUNCTION**\n",
    "\n",
    "In python a function is created using the keyord 'def'\n",
    "\n",
    "To call a function, use the function name followed by a parenthesis"
   ]
  },
  {
   "cell_type": "code",
   "execution_count": 3,
   "id": "db9b94d6",
   "metadata": {},
   "outputs": [
    {
     "name": "stdout",
     "output_type": "stream",
     "text": [
      "Hello World\n"
     ]
    }
   ],
   "source": [
    "def my_function():\n",
    "    print(\"Hello World\")\n",
    "    \n",
    "my_function()"
   ]
  },
  {
   "cell_type": "markdown",
   "id": "1266506d",
   "metadata": {},
   "source": [
    "# **ARGUMENTS**\n",
    "\n",
    "Information can be passed into functions as a arguments\n",
    "\n",
    "Arguments are specified after the function name, inside the parentheses. \n",
    "\n",
    "You can add as many as arguments you want just separate it with using commas.\n"
   ]
  },
  {
   "cell_type": "code",
   "execution_count": null,
   "id": "9c0aa19d",
   "metadata": {},
   "outputs": [
    {
     "name": "stdout",
     "output_type": "stream",
     "text": [
      "The addition is  5\n",
      "The addition is  15\n"
     ]
    }
   ],
   "source": [
    "# Function to add 2 numbers\n",
    "\n",
    "def addition(a, b):\n",
    "    print(\"The addition is \",a+b)\n",
    "    \n",
    "\n",
    "# Calling the function\n",
    "addition(2,3)\n",
    "addition(5,10)"
   ]
  },
  {
   "cell_type": "code",
   "execution_count": 8,
   "id": "97e41859",
   "metadata": {},
   "outputs": [
    {
     "name": "stdout",
     "output_type": "stream",
     "text": [
      "The additoion is  9\n",
      "The additoion is  30\n"
     ]
    }
   ],
   "source": [
    "# Function to add 3 numbers\n",
    "\n",
    "def addition(a, b, c):\n",
    "    print(\"The additoion is \", a+b+c)\n",
    "    \n",
    "addition(2,3,4)\n",
    "addition(5,10,15)"
   ]
  }
 ],
 "metadata": {
  "kernelspec": {
   "display_name": "base",
   "language": "python",
   "name": "python3"
  },
  "language_info": {
   "codemirror_mode": {
    "name": "ipython",
    "version": 3
   },
   "file_extension": ".py",
   "mimetype": "text/x-python",
   "name": "python",
   "nbconvert_exporter": "python",
   "pygments_lexer": "ipython3",
   "version": "3.12.4"
  }
 },
 "nbformat": 4,
 "nbformat_minor": 5
}

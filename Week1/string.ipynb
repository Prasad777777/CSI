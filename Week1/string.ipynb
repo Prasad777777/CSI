{
 "cells": [
  {
   "cell_type": "code",
   "execution_count": 1,
   "id": "597c93a1",
   "metadata": {},
   "outputs": [
    {
     "name": "stdout",
     "output_type": "stream",
     "text": [
      "Hello\n"
     ]
    }
   ],
   "source": [
    "# Strings  in python are surrounded by either single or double quotes.\n",
    "# 'Hello' is same as \"Hello\"\n",
    "\n",
    "print('Hello')"
   ]
  },
  {
   "cell_type": "code",
   "execution_count": 3,
   "id": "8ecf9d6b",
   "metadata": {},
   "outputs": [
    {
     "name": "stdout",
     "output_type": "stream",
     "text": [
      "H\n",
      "e\n",
      "l\n",
      "l\n"
     ]
    }
   ],
   "source": [
    "# Strings as Arrays\n",
    "\n",
    "a = \"Hello World\"\n",
    "print(a[0])\n",
    "print(a[1])\n",
    "print(a[2])\n",
    "print(a[3])\n"
   ]
  },
  {
   "cell_type": "code",
   "execution_count": null,
   "id": "79ea0a7d",
   "metadata": {},
   "outputs": [],
   "source": [
    "# Looping through a sstring\n",
    "name = \"Prasad Parjane\"\n",
    "for x in name:\n",
    "    print(x) "
   ]
  }
 ],
 "metadata": {
  "kernelspec": {
   "display_name": "base",
   "language": "python",
   "name": "python3"
  },
  "language_info": {
   "codemirror_mode": {
    "name": "ipython",
    "version": 3
   },
   "file_extension": ".py",
   "mimetype": "text/x-python",
   "name": "python",
   "nbconvert_exporter": "python",
   "pygments_lexer": "ipython3",
   "version": "3.12.4"
  }
 },
 "nbformat": 4,
 "nbformat_minor": 5
}

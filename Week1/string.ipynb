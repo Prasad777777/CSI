{
 "cells": [
  {
   "cell_type": "code",
   "execution_count": 1,
   "id": "597c93a1",
   "metadata": {},
   "outputs": [
    {
     "name": "stdout",
     "output_type": "stream",
     "text": [
      "Hello\n"
     ]
    }
   ],
   "source": [
    "# Strings  in python are surrounded by either single or double quotes.\n",
    "# 'Hello' is same as \"Hello\"\n",
    "\n",
    "print('Hello')"
   ]
  },
  {
   "cell_type": "code",
   "execution_count": 3,
   "id": "8ecf9d6b",
   "metadata": {},
   "outputs": [
    {
     "name": "stdout",
     "output_type": "stream",
     "text": [
      "H\n",
      "e\n",
      "l\n",
      "l\n"
     ]
    }
   ],
   "source": [
    "# Strings as Arrays\n",
    "\n",
    "a = \"Hello World\"\n",
    "print(a[0])\n",
    "print(a[1])\n",
    "print(a[2])\n",
    "print(a[3])\n"
   ]
  },
  {
   "cell_type": "code",
   "execution_count": 4,
   "id": "79ea0a7d",
   "metadata": {},
   "outputs": [
    {
     "name": "stdout",
     "output_type": "stream",
     "text": [
      "P\n",
      "r\n",
      "a\n",
      "s\n",
      "a\n",
      "d\n",
      " \n",
      "P\n",
      "a\n",
      "r\n",
      "j\n",
      "a\n",
      "n\n",
      "e\n"
     ]
    }
   ],
   "source": [
    "# Looping through a sstring\n",
    "name = \"Prasad Parjane\"\n",
    "for x in name:\n",
    "    print(x) "
   ]
  },
  {
   "cell_type": "code",
   "execution_count": 6,
   "id": "9e8017cc",
   "metadata": {},
   "outputs": [
    {
     "name": "stdout",
     "output_type": "stream",
     "text": [
      "The length of the string is:  14\n"
     ]
    }
   ],
   "source": [
    "# String Length\n",
    "name = \"Prasad Parjane\"\n",
    "a = len(name)\n",
    "print(\"The length of the string is: \", a)"
   ]
  },
  {
   "cell_type": "code",
   "execution_count": 11,
   "id": "050c076c",
   "metadata": {},
   "outputs": [
    {
     "name": "stdout",
     "output_type": "stream",
     "text": [
      "True\n",
      "False\n"
     ]
    }
   ],
   "source": [
    "# String Check\n",
    "# We can check if certain word or character is present in string or not\n",
    "name = \"Prasad Baban Parjane\"\n",
    "print(\"Baban\" in name)\n",
    "\n",
    "# if not present\n",
    "print(\"Baban\" not in name)"
   ]
  },
  {
   "cell_type": "code",
   "execution_count": null,
   "id": "ceb068cc",
   "metadata": {},
   "outputs": [
    {
     "name": "stdout",
     "output_type": "stream",
     "text": [
      "Prasad\n",
      "Parjane\n",
      "paragaon\n"
     ]
    }
   ],
   "source": [
    "# String Slicing\n",
    "# Slicing is used to get a part of string\n",
    "# Syntax: string[start:end]\n",
    "\n",
    "name = \"Prasad\"\n",
    "print(name[0:7])\n",
    "\n",
    "surname = \"Parjane\"\n",
    "print(surname[:8]) # From start to 8th index\n",
    "\n",
    "# Slicing till end\n",
    "taluka = \"Koparagaon\"\n",
    "print(taluka[2:])  # From 2nd index to end"
   ]
  },
  {
   "cell_type": "code",
   "execution_count": 16,
   "id": "af12a97d",
   "metadata": {},
   "outputs": [
    {
     "name": "stdout",
     "output_type": "stream",
     "text": [
      "rasa\n"
     ]
    }
   ],
   "source": [
    "# Negative Indexing\n",
    "name = 'Prasad'\n",
    "print(name[-5:-1])\n"
   ]
  },
  {
   "cell_type": "code",
   "execution_count": null,
   "id": "ad2f0b3d",
   "metadata": {},
   "outputs": [
    {
     "name": "stdout",
     "output_type": "stream",
     "text": [
      "Before Upper Case prasad\n",
      "After Upper Case PRASAD\n",
      "Name before Lower Case PARJANE\n",
      "Name after Lower Case parjane\n"
     ]
    }
   ],
   "source": [
    "# Modify Strings\n",
    "# Python has many built in methods that can be used on strings and modify the  strings\n",
    " \n",
    " # 1. Upper Case - Returns the string in upper case\n",
    "name = \"prasad\" \n",
    "name1 = name.upper()\n",
    "print(\"Before Upper Case\", name)\n",
    "print(\"After Upper Case\", name1)\n",
    "\n",
    "\n",
    "# 2. Lower case -  returns the string in lower case\n",
    "name  = \"PARJANE\"\n",
    "name1 = name.lower()\n",
    "print(\"Name before Lower Case\", name)\n",
    "print(\"Name after Lower Case\", name1)\n",
    "\n"
   ]
  },
  {
   "cell_type": "code",
   "execution_count": 3,
   "id": "db9ee159",
   "metadata": {},
   "outputs": [
    {
     "name": "stdout",
     "output_type": "stream",
     "text": [
      "Before capitalize(): hello world\n",
      "After capitalize(): Hello world\n"
     ]
    }
   ],
   "source": [
    "# 1. capitalize() - Converts the first character to upper case\n",
    "text = \"hello world\"\n",
    "result = text.capitalize()\n",
    "print(\"Before capitalize():\", text)\n",
    "print(\"After capitalize():\", result)"
   ]
  },
  {
   "cell_type": "code",
   "execution_count": 5,
   "id": "69d17ee0",
   "metadata": {},
   "outputs": [
    {
     "name": "stdout",
     "output_type": "stream",
     "text": [
      "Before Casefold() HELLO WORLD\n",
      "After casefold(): hello world\n"
     ]
    }
   ],
   "source": [
    "# 2. casefold() - Converts string into lower case\n",
    "text = \"HELLO WORLD\"\n",
    "result = text.casefold()\n",
    "print(\"Before Casefold()\", text)\n",
    "print(\"After casefold():\", result)"
   ]
  },
  {
   "cell_type": "code",
   "execution_count": 7,
   "id": "8d770bd8",
   "metadata": {},
   "outputs": [
    {
     "name": "stdout",
     "output_type": "stream",
     "text": [
      "Before center(): hello\n",
      "After center(): ---hello---\n"
     ]
    }
   ],
   "source": [
    "# 3. center() - Returns a centered string\n",
    "text = \"hello\"\n",
    "result = text.center(11, '-')\n",
    "print(\"Before center():\", text)\n",
    "print(\"After center():\", result)"
   ]
  },
  {
   "cell_type": "code",
   "execution_count": 15,
   "id": "73f3f904",
   "metadata": {},
   "outputs": [
    {
     "name": "stdout",
     "output_type": "stream",
     "text": [
      "Count of 'apple': 2\n"
     ]
    }
   ],
   "source": [
    "# 4. count() - Returns the number of times a specified value occurs\n",
    "text = \" I like apple, banana, orange and apple\"\n",
    "a = text.count(\"apple\")\n",
    "print(\"Count of 'apple':\", a)"
   ]
  },
  {
   "cell_type": "code",
   "execution_count": 9,
   "id": "c0c594fd",
   "metadata": {},
   "outputs": [
    {
     "name": "stdout",
     "output_type": "stream",
     "text": [
      "Encoded text: b'hello'\n"
     ]
    }
   ],
   "source": [
    "# 5. encode() - Returns an encoded version of the string\n",
    "text = \"hello\"\n",
    "result = text.encode()\n",
    "print(\"Encoded text:\", result)"
   ]
  },
  {
   "cell_type": "code",
   "execution_count": 12,
   "id": "85f7de95",
   "metadata": {},
   "outputs": [
    {
     "name": "stdout",
     "output_type": "stream",
     "text": [
      "Ends with 'Parjane': True\n",
      "Ends with 'Prasad': False\n"
     ]
    }
   ],
   "source": [
    "# 6. endswith() - Returns true if the string ends with the specified value\n",
    "text = \"PrasadParjane\"\n",
    "print(\"Ends with 'Parjane':\", text.endswith(\"Parjane\"))\n",
    "print(\"Ends with 'Prasad':\", text.endswith(\"Prasad\"))"
   ]
  },
  {
   "cell_type": "code",
   "execution_count": 18,
   "id": "864dc7c0",
   "metadata": {},
   "outputs": [
    {
     "name": "stdout",
     "output_type": "stream",
     "text": [
      "Index of 'to': 8\n"
     ]
    }
   ],
   "source": [
    "# 7. find() - Returns index of first occurrence\n",
    "text = \"welcome to python\"\n",
    "a = text.find(\"to\")\n",
    "print(\"Index of 'to':\", a)\n",
    "\n"
   ]
  },
  {
   "cell_type": "code",
   "execution_count": 21,
   "id": "1af6cbbe",
   "metadata": {},
   "outputs": [
    {
     "name": "stdout",
     "output_type": "stream",
     "text": [
      "Index of 'Baban': 7\n"
     ]
    }
   ],
   "source": [
    "# 8. index() - Like find(), but throws error if not found\n",
    "name = \"Prasad Baban Parjane\"\n",
    "find = name.index(\"Baban\")\n",
    "print(\"Index of 'Baban':\", find)"
   ]
  },
  {
   "cell_type": "code",
   "execution_count": null,
   "id": "3c000e73",
   "metadata": {},
   "outputs": [
    {
     "name": "stdout",
     "output_type": "stream",
     "text": [
      "Is password alphanumeric ?  False\n",
      "Is password2 alphanumeric ?  True\n"
     ]
    }
   ],
   "source": [
    "# 9. isalnum() - Returns True if alphanumeric\n",
    "password1 = \"#Prasad7\"\n",
    "password2 = \"Prasad7\"\n",
    "\n",
    "check1 = password1.isalnum()\n",
    "check2 = password2.isalnum()\n",
    "\n",
    "print(\"Is password alphanumeric ? \",check1)\n",
    "print(\"Is password2 alphanumeric ? \",check2)\n"
   ]
  },
  {
   "cell_type": "code",
   "execution_count": 25,
   "id": "98fd4e33",
   "metadata": {},
   "outputs": [
    {
     "name": "stdout",
     "output_type": "stream",
     "text": [
      "Is password1 alpha ?  True\n",
      "Is password2 alpha ?  False\n"
     ]
    }
   ],
   "source": [
    "# 10. isalpha() - Returns True if all alphabet\n",
    "\n",
    "password1 = \"Prasad\"\n",
    "password2 = \"Prasad7\"\n",
    "\n",
    "check1 = password1.isalpha()\n",
    "check2 = password2.isalpha()\n",
    "\n",
    "print(\"Is password1 alpha ? \", check1)\n",
    "print(\"Is password2 alpha ? \", check2)\n"
   ]
  },
  {
   "cell_type": "code",
   "execution_count": 27,
   "id": "73a70449",
   "metadata": {},
   "outputs": [
    {
     "name": "stdout",
     "output_type": "stream",
     "text": [
      "Full Name:  Prasad Baban Parjane\n"
     ]
    }
   ],
   "source": [
    "# Concatenation of Strings\n",
    "# To concatenate two strings we can use + operator\n",
    "\n",
    "first_name = \"Prasad Baban\"\n",
    "last_name = \"Parjane\"\n",
    "\n",
    "full_name = first_name + \" \" + last_name\n",
    "print(\"Full Name: \", full_name)"
   ]
  },
  {
   "cell_type": "code",
   "execution_count": null,
   "id": "f3e14d7c",
   "metadata": {},
   "outputs": [],
   "source": []
  }
 ],
 "metadata": {
  "kernelspec": {
   "display_name": "base",
   "language": "python",
   "name": "python3"
  },
  "language_info": {
   "codemirror_mode": {
    "name": "ipython",
    "version": 3
   },
   "file_extension": ".py",
   "mimetype": "text/x-python",
   "name": "python",
   "nbconvert_exporter": "python",
   "pygments_lexer": "ipython3",
   "version": "3.12.4"
  }
 },
 "nbformat": 4,
 "nbformat_minor": 5
}

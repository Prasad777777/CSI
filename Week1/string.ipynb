{
 "cells": [
  {
   "cell_type": "code",
   "execution_count": 1,
   "id": "597c93a1",
   "metadata": {},
   "outputs": [
    {
     "name": "stdout",
     "output_type": "stream",
     "text": [
      "Hello\n"
     ]
    }
   ],
   "source": [
    "# Strings  in python are surrounded by either single or double quotes.\n",
    "# 'Hello' is same as \"Hello\"\n",
    "\n",
    "print('Hello')"
   ]
  },
  {
   "cell_type": "code",
   "execution_count": 3,
   "id": "8ecf9d6b",
   "metadata": {},
   "outputs": [
    {
     "name": "stdout",
     "output_type": "stream",
     "text": [
      "H\n",
      "e\n",
      "l\n",
      "l\n"
     ]
    }
   ],
   "source": [
    "# Strings as Arrays\n",
    "\n",
    "a = \"Hello World\"\n",
    "print(a[0])\n",
    "print(a[1])\n",
    "print(a[2])\n",
    "print(a[3])\n"
   ]
  },
  {
   "cell_type": "code",
   "execution_count": 4,
   "id": "79ea0a7d",
   "metadata": {},
   "outputs": [
    {
     "name": "stdout",
     "output_type": "stream",
     "text": [
      "P\n",
      "r\n",
      "a\n",
      "s\n",
      "a\n",
      "d\n",
      " \n",
      "P\n",
      "a\n",
      "r\n",
      "j\n",
      "a\n",
      "n\n",
      "e\n"
     ]
    }
   ],
   "source": [
    "# Looping through a sstring\n",
    "name = \"Prasad Parjane\"\n",
    "for x in name:\n",
    "    print(x) "
   ]
  },
  {
   "cell_type": "code",
   "execution_count": 6,
   "id": "9e8017cc",
   "metadata": {},
   "outputs": [
    {
     "name": "stdout",
     "output_type": "stream",
     "text": [
      "The length of the string is:  14\n"
     ]
    }
   ],
   "source": [
    "# String Length\n",
    "name = \"Prasad Parjane\"\n",
    "a = len(name)\n",
    "print(\"The length of the string is: \", a)"
   ]
  },
  {
   "cell_type": "code",
   "execution_count": 11,
   "id": "050c076c",
   "metadata": {},
   "outputs": [
    {
     "name": "stdout",
     "output_type": "stream",
     "text": [
      "True\n",
      "False\n"
     ]
    }
   ],
   "source": [
    "# String Check\n",
    "# We can check if certain word or character is present in string or not\n",
    "name = \"Prasad Baban Parjane\"\n",
    "print(\"Baban\" in name)\n",
    "\n",
    "# if not present\n",
    "print(\"Baban\" not in name)"
   ]
  },
  {
   "cell_type": "code",
   "execution_count": null,
   "id": "ceb068cc",
   "metadata": {},
   "outputs": [
    {
     "name": "stdout",
     "output_type": "stream",
     "text": [
      "Prasad\n",
      "Parjane\n",
      "paragaon\n"
     ]
    }
   ],
   "source": [
    "# String Slicing\n",
    "# Slicing is used to get a part of string\n",
    "# Syntax: string[start:end]\n",
    "\n",
    "name = \"Prasad\"\n",
    "print(name[0:7])\n",
    "\n",
    "surname = \"Parjane\"\n",
    "print(surname[:8]) # From start to 8th index\n",
    "\n",
    "# Slicing till end\n",
    "taluka = \"Koparagaon\"\n",
    "print(taluka[2:])  # From 2nd index to end"
   ]
  },
  {
   "cell_type": "code",
   "execution_count": 16,
   "id": "af12a97d",
   "metadata": {},
   "outputs": [
    {
     "name": "stdout",
     "output_type": "stream",
     "text": [
      "rasa\n"
     ]
    }
   ],
   "source": [
    "# Negative Indexing\n",
    "name = 'Prasad'\n",
    "print(name[-5:-1])\n"
   ]
  },
  {
   "cell_type": "code",
   "execution_count": null,
   "id": "ad2f0b3d",
   "metadata": {},
   "outputs": [
    {
     "name": "stdout",
     "output_type": "stream",
     "text": [
      "Before Upper Case prasad\n",
      "After Upper Case PRASAD\n"
     ]
    }
   ],
   "source": [
    "# Modify Strings\n",
    "# Python has many built in methods that can be used on strings and modify the  strings\n",
    " \n",
    " # 1. Upper Case - Returns the string in upper case\n",
    "name = \"prasad\" \n",
    "name1 = name.upper()\n",
    "print(\"Before Upper Case\", name)\n",
    "print(\"After Upper Case\", name1)\n",
    "\n",
    "\n",
    "# 2. Lower case -  returns the string in lower case\n",
    "name  = \"PARJANE\"\n",
    "name1 = name.lower()\n",
    "print(\"Name before Lower Case\", name)\n",
    "print(\"Name after Lower Case\", name1)\n",
    " "
   ]
  },
  {
   "cell_type": "markdown",
   "id": "3bdf9762",
   "metadata": {},
   "source": []
  },
  {
   "cell_type": "code",
   "execution_count": null,
   "id": "8d770bd8",
   "metadata": {},
   "outputs": [],
   "source": []
  }
 ],
 "metadata": {
  "kernelspec": {
   "display_name": "base",
   "language": "python",
   "name": "python3"
  },
  "language_info": {
   "codemirror_mode": {
    "name": "ipython",
    "version": 3
   },
   "file_extension": ".py",
   "mimetype": "text/x-python",
   "name": "python",
   "nbconvert_exporter": "python",
   "pygments_lexer": "ipython3",
   "version": "3.12.4"
  }
 },
 "nbformat": 4,
 "nbformat_minor": 5
}

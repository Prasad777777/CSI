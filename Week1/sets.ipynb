{
 "cells": [
  {
   "cell_type": "code",
   "execution_count": 2,
   "id": "22222762",
   "metadata": {},
   "outputs": [
    {
     "name": "stdout",
     "output_type": "stream",
     "text": [
      "{'banana', 'cherry', 'apple'}\n"
     ]
    }
   ],
   "source": [
    "# Sets are unoredered, unchangeable, and do not allow duplicate elements.\n",
    "# Duplicates are ignored\n",
    "# Sets are defined using curly braces or the set() constructor\n",
    "\n",
    "my_set = {'apple', 'banana', 'cherry', 'apple'}  # 'apple' will be ignored as it is duplicate\n",
    "print(my_set)"
   ]
  },
  {
   "cell_type": "code",
   "execution_count": null,
   "id": "43c763f6",
   "metadata": {},
   "outputs": [
    {
     "name": "stdout",
     "output_type": "stream",
     "text": [
      "3\n"
     ]
    }
   ],
   "source": [
    "# Getting the length of the set\n",
    "\n",
    "this_set = {1,4,1,3,4} # Duplicates will be ignored, so it will only contain unique elements\n",
    "print(len(this_set))"
   ]
  },
  {
   "cell_type": "code",
   "execution_count": 5,
   "id": "6045898c",
   "metadata": {},
   "outputs": [
    {
     "name": "stdout",
     "output_type": "stream",
     "text": [
      "The data type of set1 is  <class 'set'>\n",
      "The data type of set2 is  <class 'set'>\n"
     ]
    }
   ],
   "source": [
    "# Getting the data type of a  set\n",
    "\n",
    "set1 = {1,2,3}\n",
    "print('The data type of set1 is ', type(set1))\n",
    "\n",
    "set2 = {\"Apple\", \"Banana\", \"Cherry\"}\n",
    "print('The data type of set2 is ', type(set2))"
   ]
  },
  {
   "cell_type": "code",
   "execution_count": 7,
   "id": "7fa83d84",
   "metadata": {},
   "outputs": [
    {
     "name": "stdout",
     "output_type": "stream",
     "text": [
      "{'banana', 'apple', 'cheery'}\n"
     ]
    }
   ],
   "source": [
    "# Using the set() constructor\n",
    "my_set = set(('apple', 'banana','cheery'))\n",
    "print(my_set)"
   ]
  },
  {
   "cell_type": "code",
   "execution_count": null,
   "id": "a3fabd2c",
   "metadata": {},
   "outputs": [],
   "source": [
    "# Accessing the items in the set\n",
    "# We cannot directly access the items in the set as it is unordeed\n",
    "# However, we can loop through the set to access its items\n",
    "\n",
    "my_set = {'apple', 'banana', 'cherry'}\n",
    "for item in my_set:\n",
    "    print(item)"
   ]
  },
  {
   "cell_type": "code",
   "execution_count": 10,
   "id": "a6236dab",
   "metadata": {},
   "outputs": [
    {
     "name": "stdout",
     "output_type": "stream",
     "text": [
      "Yes banana item is present in the set\n"
     ]
    }
   ],
   "source": [
    "# Checking if an item exists in a set or not\n",
    "my_set = {'apple', 'banana', 'cherry'}\n",
    "for x in my_set:\n",
    "    if x == 'banana':\n",
    "        print(\"Yes\", x, \"item is present in the set\")"
   ]
  },
  {
   "cell_type": "code",
   "execution_count": null,
   "id": "3a214e6d",
   "metadata": {},
   "outputs": [
    {
     "name": "stdout",
     "output_type": "stream",
     "text": [
      "Updated set is {'banana', 'orane', 'cherry', 'apple'}\n"
     ]
    }
   ],
   "source": [
    "# adding the items to a set\n",
    "my_set = {'apple', 'banana', 'cherry'}\n",
    "my_set.add('orange')\n",
    "print('Updated set is', my_set)"
   ]
  }
 ],
 "metadata": {
  "kernelspec": {
   "display_name": "base",
   "language": "python",
   "name": "python3"
  },
  "language_info": {
   "codemirror_mode": {
    "name": "ipython",
    "version": 3
   },
   "file_extension": ".py",
   "mimetype": "text/x-python",
   "name": "python",
   "nbconvert_exporter": "python",
   "pygments_lexer": "ipython3",
   "version": "3.12.4"
  }
 },
 "nbformat": 4,
 "nbformat_minor": 5
}

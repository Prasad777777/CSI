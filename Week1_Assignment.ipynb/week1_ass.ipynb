{
 "cells": [
  {
   "cell_type": "code",
   "execution_count": 1,
   "id": "70a8e36f",
   "metadata": {},
   "outputs": [
    {
     "name": "stdout",
     "output_type": "stream",
     "text": [
      "*\n",
      "**\n",
      "***\n",
      "****\n",
      "*****\n"
     ]
    }
   ],
   "source": [
    "# Program to print a right-angled triangle pattern using 15 asterisks\n",
    "\n",
    "# The triangle should have the following structure:\n",
    "# *\n",
    "# **\n",
    "# ***\n",
    "# ****\n",
    "# *****  \n",
    "# Total stars = 1 + 2 + 3 + 4 + 5 = 15\n",
    "\n",
    "# Loop to print the triangle\n",
    "for i in range(1, 6):  # Loop runs from 1 to 5 (inclusive)\n",
    "    print('*' * i)     # Print i asterisks in each row\n"
   ]
  }
 ],
 "metadata": {
  "kernelspec": {
   "display_name": "base",
   "language": "python",
   "name": "python3"
  },
  "language_info": {
   "codemirror_mode": {
    "name": "ipython",
    "version": 3
   },
   "file_extension": ".py",
   "mimetype": "text/x-python",
   "name": "python",
   "nbconvert_exporter": "python",
   "pygments_lexer": "ipython3",
   "version": "3.12.4"
  }
 },
 "nbformat": 4,
 "nbformat_minor": 5
}

{
 "cells": [
  {
   "cell_type": "code",
   "execution_count": 3,
   "id": "70a8e36f",
   "metadata": {},
   "outputs": [
    {
     "name": "stdout",
     "output_type": "stream",
     "text": [
      "*\n",
      "**\n",
      "***\n",
      "****\n",
      "*****\n"
     ]
    }
   ],
   "source": [
    "# Program to print a right-angled triangle pattern using 15 asterisks\n",
    "\n",
    "# The triangle should have the following structure:\n",
    "# *\n",
    "# **\n",
    "# ***\n",
    "# ****\n",
    "# *****  \n",
    "# Total stars = 1 + 2 + 3 + 4 + 5 = 15\n",
    "\n",
    "# Loop to print the triangle\n",
    "for i in range(1, 6):  # Loop runs from 1 to 5 (inclusive)\n",
    "    print('*' * i)     # Print i asterisks in each row\n"
   ]
  },
  {
   "cell_type": "code",
   "execution_count": 6,
   "id": "db660c10",
   "metadata": {},
   "outputs": [
    {
     "name": "stdout",
     "output_type": "stream",
     "text": [
      "Lower Triangular Pattern:\n",
      "* \n",
      "* * \n",
      "* * * \n",
      "* * * * \n",
      "* * * * * \n",
      "\n",
      "Upper Triangular Pattern:\n",
      "* * * * * \n",
      "* * * * \n",
      "* * * \n",
      "* * \n",
      "* \n",
      "\n",
      "Pyramid Pattern:\n",
      "    * \n",
      "   * * \n",
      "  * * * \n",
      " * * * * \n",
      "* * * * * \n",
      "\n"
     ]
    }
   ],
   "source": [
    "# Assignment: Star Pattern Printing in Python\n",
    "\n",
    "# Function to print Lower Triangular pattern\n",
    "def lower_triangular(n):\n",
    "    print(\"Lower Triangular Pattern:\")\n",
    "    for i in range(1, n+1):\n",
    "        print(\"* \" * i)\n",
    "    print()  # Add an empty line for separation\n",
    "\n",
    "# Function to print Upper Triangular pattern\n",
    "def upper_triangular(n):\n",
    "    print(\"Upper Triangular Pattern:\")\n",
    "    for i in range(n, 0, -1):\n",
    "        print(\"* \" * i)\n",
    "    print()  # Add an empty line for separation\n",
    "\n",
    "# Function to print Pyramid pattern\n",
    "def pyramid_pattern(n):\n",
    "    print(\"Pyramid Pattern:\")\n",
    "    for i in range(1, n+1):\n",
    "        # Print spaces for alignment\n",
    "        print(\" \" * (n - i), end=\"\")\n",
    "        # Print stars\n",
    "        print(\"* \" * i)\n",
    "    print()  # Add an empty line for separation\n",
    "\n",
    "# Main function to call all patterns\n",
    "def main():\n",
    "    n = 5  # You can change the value of n to adjust pattern size\n",
    "    lower_triangular(n)\n",
    "    upper_triangular(n)\n",
    "    pyramid_pattern(n)\n",
    "\n",
    "# Call the main function\n",
    "main()\n"
   ]
  }
 ],
 "metadata": {
  "kernelspec": {
   "display_name": "base",
   "language": "python",
   "name": "python3"
  },
  "language_info": {
   "codemirror_mode": {
    "name": "ipython",
    "version": 3
   },
   "file_extension": ".py",
   "mimetype": "text/x-python",
   "name": "python",
   "nbconvert_exporter": "python",
   "pygments_lexer": "ipython3",
   "version": "3.12.4"
  }
 },
 "nbformat": 4,
 "nbformat_minor": 5
}
